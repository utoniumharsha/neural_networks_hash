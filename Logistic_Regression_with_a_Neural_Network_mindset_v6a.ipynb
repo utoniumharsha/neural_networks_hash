{
 "cells": [
  {
   "cell_type": "markdown",
   "metadata": {},
   "source": [
    "# Logistic Regression with a Neural Network mindset\n",
    "\n",
    "Welcome to your first (required) programming assignment! You will build a logistic regression classifier to recognize  cats. This assignment will step you through how to do this with a Neural Network mindset, and so will also hone your intuitions about deep learning.\n",
    "\n",
    "**Instructions:**\n",
    "- Do not use loops (for/while) in your code, unless the instructions explicitly ask you to do so.\n",
    "\n",
    "**You will learn to:**\n",
    "- Build the general architecture of a learning algorithm, including:\n",
    "    - Initializing parameters\n",
    "    - Calculating the cost function and its gradient\n",
    "    - Using an optimization algorithm (gradient descent) \n",
    "- Gather all three functions above into a main model function, in the right order."
   ]
  },
  {
   "cell_type": "markdown",
   "metadata": {},
   "source": [
    "## <font color='darkblue'>Updates</font>\n",
    "This notebook has been updated over the past few months.  The prior version was named \"v5\", and the current versionis now named '6a'\n",
    "\n",
    "#### If you were working on a previous version:\n",
    "* You can find your prior work by looking in the file directory for the older files (named by version name).\n",
    "* To view the file directory, click on the \"Coursera\" icon in the top left corner of this notebook.\n",
    "* Please copy your work from the older versions to the new version, in order to submit your work for grading.\n",
    "\n",
    "#### List of Updates\n",
    "* Forward propagation formula, indexing now starts at 1 instead of 0.\n",
    "* Optimization function comment now says \"print cost every 100 training iterations\" instead of \"examples\".\n",
    "* Fixed grammar in the comments.\n",
    "* Y_prediction_test variable name is used consistently.\n",
    "* Plot's axis label now says \"iterations (hundred)\" instead of \"iterations\".\n",
    "* When testing the model, the test image is normalized by dividing by 255."
   ]
  },
  {
   "cell_type": "markdown",
   "metadata": {},
   "source": [
    "## 1 - Packages ##\n",
    "\n",
    "First, let's run the cell below to import all the packages that you will need during this assignment. \n",
    "- [numpy](www.numpy.org) is the fundamental package for scientific computing with Python.\n",
    "- [h5py](http://www.h5py.org) is a common package to interact with a dataset that is stored on an H5 file.\n",
    "- [matplotlib](http://matplotlib.org) is a famous library to plot graphs in Python.\n",
    "- [PIL](http://www.pythonware.com/products/pil/) and [scipy](https://www.scipy.org/) are used here to test your model with your own picture at the end."
   ]
  },
  {
   "cell_type": "code",
<<<<<<< HEAD
   "execution_count": 1,
=======
   "execution_count": null,
>>>>>>> b400ae376139c8f5c06abe0142e41795c8eccc72
   "metadata": {
    "collapsed": true
   },
   "outputs": [],
   "source": [
    "import numpy as np\n",
    "import matplotlib.pyplot as plt\n",
    "import h5py\n",
    "import scipy\n",
    "from PIL import Image\n",
<<<<<<< HEAD
    "from scipy import ndimage \n",
    "#from lr_utils import load_dataset\n",
    "\n",
    "%matplotlib inline "
=======
    "from scipy import ndimage\n",
    "from lr_utils import load_dataset\n",
    "\n",
    "%matplotlib inline"
>>>>>>> b400ae376139c8f5c06abe0142e41795c8eccc72
   ]
  },
  {
   "cell_type": "markdown",
   "metadata": {},
   "source": [
    "## 2 - Overview of the Problem set ##\n",
    "\n",
    "**Problem Statement**: You are given a dataset (\"data.h5\") containing:\n",
    "    - a training set of m_train images labeled as cat (y=1) or non-cat (y=0)\n",
    "    - a test set of m_test images labeled as cat or non-cat\n",
    "    - each image is of shape (num_px, num_px, 3) where 3 is for the 3 channels (RGB). Thus, each image is square (height = num_px) and (width = num_px).\n",
    "\n",
    "You will build a simple image-recognition algorithm that can correctly classify pictures as cat or non-cat.\n",
    "\n",
    "Let's get more familiar with the dataset. Load the data by running the following code."
   ]
  },
  {
   "cell_type": "code",
<<<<<<< HEAD
   "execution_count": 2,
=======
   "execution_count": null,
>>>>>>> b400ae376139c8f5c06abe0142e41795c8eccc72
   "metadata": {
    "collapsed": true
   },
   "outputs": [],
   "source": [
    "# Loading the data (cat/non-cat)\n",
<<<<<<< HEAD
    "# train_set_x_orig, train_set_y, test_set_x_orig, test_set_y, classes = load_dataset()\n",
    "train_dataset = h5py.File('datasets/train_catvnoncat.h5', \"r\")\n",
    "train_set_x_orig = np.array(train_dataset[\"train_set_x\"][:]) # your train set features\n",
    "train_set_y_orig = np.array(train_dataset[\"train_set_y\"][:]) # your train set labels\n",
    "\n",
    "test_dataset = h5py.File('datasets/test_catvnoncat.h5', \"r\")\n",
    "test_set_x_orig = np.array(test_dataset[\"test_set_x\"][:]) # your test set features\n",
    "test_set_y_orig = np.array(test_dataset[\"test_set_y\"][:]) # your test set labels\n",
    "\n",
    "classes = np.array(test_dataset[\"list_classes\"][:]) # the list of classes\n",
    "    \n",
    "train_set_y = train_set_y_orig.reshape((1, train_set_y_orig.shape[0]))\n",
    "test_set_y = test_set_y_orig.reshape((1, test_set_y_orig.shape[0]))\n"
=======
    "train_set_x_orig, train_set_y, test_set_x_orig, test_set_y, classes = load_dataset()"
>>>>>>> b400ae376139c8f5c06abe0142e41795c8eccc72
   ]
  },
  {
   "cell_type": "markdown",
   "metadata": {},
   "source": [
    "We added \"_orig\" at the end of image datasets (train and test) because we are going to preprocess them. After preprocessing, we will end up with train_set_x and test_set_x (the labels train_set_y and test_set_y don't need any preprocessing).\n",
    "\n",
    "Each line of your train_set_x_orig and test_set_x_orig is an array representing an image. You can visualize an example by running the following code. Feel free also to change the `index` value and re-run to see other images. "
   ]
  },
  {
   "cell_type": "code",
<<<<<<< HEAD
   "execution_count": 3,
   "metadata": {},
   "outputs": [
    {
     "name": "stdout",
     "output_type": "stream",
     "text": [
      "y = [1], it's a 'cat' picture.\n"
     ]
    },
    {
     "data": {
      "image/png": "iVBORw0KGgoAAAANSUhEUgAAAP8AAAD8CAYAAAC4nHJkAAAABHNCSVQICAgIfAhkiAAAAAlwSFlz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\nK+0AAAAASUVORK5CYII=\n",
      "text/plain": [
       "<matplotlib.figure.Figure at 0x7f30c4a23898>"
      ]
     },
     "metadata": {},
     "output_type": "display_data"
    }
   ],
=======
   "execution_count": null,
   "metadata": {
    "collapsed": true
   },
   "outputs": [],
>>>>>>> b400ae376139c8f5c06abe0142e41795c8eccc72
   "source": [
    "# Example of a picture\n",
    "index = 25\n",
    "plt.imshow(train_set_x_orig[index])\n",
    "print (\"y = \" + str(train_set_y[:, index]) + \", it's a '\" + classes[np.squeeze(train_set_y[:, index])].decode(\"utf-8\") +  \"' picture.\")"
   ]
  },
  {
   "cell_type": "markdown",
   "metadata": {},
   "source": [
    "Many software bugs in deep learning come from having matrix/vector dimensions that don't fit. If you can keep your matrix/vector dimensions straight you will go a long way toward eliminating many bugs. \n",
    "\n",
    "**Exercise:** Find the values for:\n",
    "    - m_train (number of training examples)\n",
    "    - m_test (number of test examples)\n",
    "    - num_px (= height = width of a training image)\n",
    "Remember that `train_set_x_orig` is a numpy-array of shape (m_train, num_px, num_px, 3). For instance, you can access `m_train` by writing `train_set_x_orig.shape[0]`."
   ]
  },
  {
   "cell_type": "code",
<<<<<<< HEAD
   "execution_count": 5,
   "metadata": {
    "scrolled": true
   },
   "outputs": [
    {
     "name": "stdout",
     "output_type": "stream",
     "text": [
      "Number of training examples: m_train = 209\n",
      "Number of testing examples: m_test = 50\n",
      "Height/Width of each image: num_px = 64\n",
      "Each image is of size: (64, 64, 3)\n",
      "train_set_x shape: (209, 64, 64, 3)\n",
      "train_set_y shape: (1, 209)\n",
      "test_set_x shape: (50, 64, 64, 3)\n",
      "test_set_y shape: (1, 50)\n"
     ]
    }
   ],
   "source": [
    "### START CODE HERE ### (≈ 3 lines of code)\n",
    "m_train = train_set_x_orig.shape[0]\n",
    "m_test = test_set_x_orig.shape[0]\n",
    "num_px = train_set_x_orig.shape[1]\n",
=======
   "execution_count": null,
   "metadata": {
    "collapsed": true,
    "scrolled": true
   },
   "outputs": [],
   "source": [
    "### START CODE HERE ### (≈ 3 lines of code)\n",
    "m_train = None\n",
    "m_test = None\n",
    "num_px = None\n",
>>>>>>> b400ae376139c8f5c06abe0142e41795c8eccc72
    "### END CODE HERE ###\n",
    "\n",
    "print (\"Number of training examples: m_train = \" + str(m_train))\n",
    "print (\"Number of testing examples: m_test = \" + str(m_test))\n",
    "print (\"Height/Width of each image: num_px = \" + str(num_px))\n",
    "print (\"Each image is of size: (\" + str(num_px) + \", \" + str(num_px) + \", 3)\")\n",
    "print (\"train_set_x shape: \" + str(train_set_x_orig.shape))\n",
    "print (\"train_set_y shape: \" + str(train_set_y.shape))\n",
    "print (\"test_set_x shape: \" + str(test_set_x_orig.shape))\n",
    "print (\"test_set_y shape: \" + str(test_set_y.shape))"
   ]
  },
  {
   "cell_type": "markdown",
   "metadata": {},
   "source": [
    "**Expected Output for m_train, m_test and num_px**: \n",
    "<table style=\"width:15%\">\n",
    "  <tr>\n",
    "    <td>**m_train**</td>\n",
    "    <td> 209 </td> \n",
    "  </tr>\n",
    "  \n",
    "  <tr>\n",
    "    <td>**m_test**</td>\n",
    "    <td> 50 </td> \n",
    "  </tr>\n",
    "  \n",
    "  <tr>\n",
    "    <td>**num_px**</td>\n",
    "    <td> 64 </td> \n",
    "  </tr>\n",
    "  \n",
    "</table>\n"
   ]
  },
  {
   "cell_type": "markdown",
   "metadata": {},
   "source": [
    "For convenience, you should now reshape images of shape (num_px, num_px, 3) in a numpy-array of shape (num_px $*$ num_px $*$ 3, 1). After this, our training (and test) dataset is a numpy-array where each column represents a flattened image. There should be m_train (respectively m_test) columns.\n",
    "\n",
    "**Exercise:** Reshape the training and test data sets so that images of size (num_px, num_px, 3) are flattened into single vectors of shape (num\\_px $*$ num\\_px $*$ 3, 1).\n",
    "\n",
    "A trick when you want to flatten a matrix X of shape (a,b,c,d) to a matrix X_flatten of shape (b$*$c$*$d, a) is to use: \n",
    "```python\n",
    "X_flatten = X.reshape(X.shape[0], -1).T      # X.T is the transpose of X\n",
    "```"
   ]
  },
  {
   "cell_type": "code",
<<<<<<< HEAD
   "execution_count": 6,
   "metadata": {},
   "outputs": [
    {
     "name": "stdout",
     "output_type": "stream",
     "text": [
      "train_set_x_flatten shape: (12288, 209)\n",
      "train_set_y shape: (1, 209)\n",
      "test_set_x_flatten shape: (12288, 50)\n",
      "test_set_y shape: (1, 50)\n",
      "sanity check after reshaping: [17 31 56 22 33]\n"
     ]
    }
   ],
=======
   "execution_count": null,
   "metadata": {
    "collapsed": true
   },
   "outputs": [],
>>>>>>> b400ae376139c8f5c06abe0142e41795c8eccc72
   "source": [
    "# Reshape the training and test examples\n",
    "\n",
    "### START CODE HERE ### (≈ 2 lines of code)\n",
<<<<<<< HEAD
    "train_set_x_flatten = train_set_x_orig.reshape(train_set_x_orig.shape[0], -1).T\n",
    "test_set_x_flatten = test_set_x_orig.reshape(test_set_x_orig.shape[0], -1).T\n",
=======
    "train_set_x_flatten = None\n",
    "test_set_x_flatten = None\n",
>>>>>>> b400ae376139c8f5c06abe0142e41795c8eccc72
    "### END CODE HERE ###\n",
    "\n",
    "print (\"train_set_x_flatten shape: \" + str(train_set_x_flatten.shape))\n",
    "print (\"train_set_y shape: \" + str(train_set_y.shape))\n",
    "print (\"test_set_x_flatten shape: \" + str(test_set_x_flatten.shape))\n",
    "print (\"test_set_y shape: \" + str(test_set_y.shape))\n",
    "print (\"sanity check after reshaping: \" + str(train_set_x_flatten[0:5,0]))"
   ]
  },
  {
   "cell_type": "markdown",
   "metadata": {},
   "source": [
    "**Expected Output**: \n",
    "\n",
    "<table style=\"width:35%\">\n",
    "  <tr>\n",
    "    <td>**train_set_x_flatten shape**</td>\n",
    "    <td> (12288, 209)</td> \n",
    "  </tr>\n",
    "  <tr>\n",
    "    <td>**train_set_y shape**</td>\n",
    "    <td>(1, 209)</td> \n",
    "  </tr>\n",
    "  <tr>\n",
    "    <td>**test_set_x_flatten shape**</td>\n",
    "    <td>(12288, 50)</td> \n",
    "  </tr>\n",
    "  <tr>\n",
    "    <td>**test_set_y shape**</td>\n",
    "    <td>(1, 50)</td> \n",
    "  </tr>\n",
    "  <tr>\n",
    "  <td>**sanity check after reshaping**</td>\n",
    "  <td>[17 31 56 22 33]</td> \n",
    "  </tr>\n",
    "</table>"
   ]
  },
  {
   "cell_type": "markdown",
   "metadata": {},
   "source": [
    "To represent color images, the red, green and blue channels (RGB) must be specified for each pixel, and so the pixel value is actually a vector of three numbers ranging from 0 to 255.\n",
    "\n",
    "One common preprocessing step in machine learning is to center and standardize your dataset, meaning that you substract the mean of the whole numpy array from each example, and then divide each example by the standard deviation of the whole numpy array. But for picture datasets, it is simpler and more convenient and works almost as well to just divide every row of the dataset by 255 (the maximum value of a pixel channel).\n",
    "\n",
    "<!-- During the training of your model, you're going to multiply weights and add biases to some initial inputs in order to observe neuron activations. Then you backpropogate with the gradients to train the model. But, it is extremely important for each feature to have a similar range such that our gradients don't explode. You will see that more in detail later in the lectures. !--> \n",
    "\n",
    "Let's standardize our dataset."
   ]
  },
  {
   "cell_type": "code",
<<<<<<< HEAD
   "execution_count": 7,
=======
   "execution_count": null,
>>>>>>> b400ae376139c8f5c06abe0142e41795c8eccc72
   "metadata": {
    "collapsed": true
   },
   "outputs": [],
   "source": [
    "train_set_x = train_set_x_flatten/255.\n",
    "test_set_x = test_set_x_flatten/255."
   ]
  },
  {
   "cell_type": "markdown",
   "metadata": {},
   "source": [
    "<font color='blue'>\n",
    "**What you need to remember:**\n",
    "\n",
    "Common steps for pre-processing a new dataset are:\n",
    "- Figure out the dimensions and shapes of the problem (m_train, m_test, num_px, ...)\n",
    "- Reshape the datasets such that each example is now a vector of size (num_px \\* num_px \\* 3, 1)\n",
    "- \"Standardize\" the data"
   ]
  },
  {
   "cell_type": "markdown",
   "metadata": {},
   "source": [
    "## 3 - General Architecture of the learning algorithm ##\n",
    "\n",
    "It's time to design a simple algorithm to distinguish cat images from non-cat images.\n",
    "\n",
    "You will build a Logistic Regression, using a Neural Network mindset. The following Figure explains why **Logistic Regression is actually a very simple Neural Network!**\n",
    "\n",
    "<img src=\"images/LogReg_kiank.png\" style=\"width:650px;height:400px;\">\n",
    "\n",
    "**Mathematical expression of the algorithm**:\n",
    "\n",
    "For one example $x^{(i)}$:\n",
    "$$z^{(i)} = w^T x^{(i)} + b \\tag{1}$$\n",
    "$$\\hat{y}^{(i)} = a^{(i)} = sigmoid(z^{(i)})\\tag{2}$$ \n",
    "$$ \\mathcal{L}(a^{(i)}, y^{(i)}) =  - y^{(i)}  \\log(a^{(i)}) - (1-y^{(i)} )  \\log(1-a^{(i)})\\tag{3}$$\n",
    "\n",
    "The cost is then computed by summing over all training examples:\n",
    "$$ J = \\frac{1}{m} \\sum_{i=1}^m \\mathcal{L}(a^{(i)}, y^{(i)})\\tag{6}$$\n",
    "\n",
    "**Key steps**:\n",
    "In this exercise, you will carry out the following steps: \n",
    "    - Initialize the parameters of the model\n",
    "    - Learn the parameters for the model by minimizing the cost  \n",
    "    - Use the learned parameters to make predictions (on the test set)\n",
    "    - Analyse the results and conclude"
   ]
  },
  {
   "cell_type": "markdown",
   "metadata": {},
   "source": [
    "## 4 - Building the parts of our algorithm ## \n",
    "\n",
    "The main steps for building a Neural Network are:\n",
    "1. Define the model structure (such as number of input features) \n",
    "2. Initialize the model's parameters\n",
    "3. Loop:\n",
    "    - Calculate current loss (forward propagation)\n",
    "    - Calculate current gradient (backward propagation)\n",
    "    - Update parameters (gradient descent)\n",
    "\n",
    "You often build 1-3 separately and integrate them into one function we call `model()`.\n",
    "\n",
    "### 4.1 - Helper functions\n",
    "\n",
    "**Exercise**: Using your code from \"Python Basics\", implement `sigmoid()`. As you've seen in the figure above, you need to compute $sigmoid( w^T x + b) = \\frac{1}{1 + e^{-(w^T x + b)}}$ to make predictions. Use np.exp()."
   ]
  },
  {
   "cell_type": "code",
<<<<<<< HEAD
   "execution_count": 8,
=======
   "execution_count": null,
>>>>>>> b400ae376139c8f5c06abe0142e41795c8eccc72
   "metadata": {
    "collapsed": true
   },
   "outputs": [],
   "source": [
    "# GRADED FUNCTION: sigmoid\n",
    "\n",
    "def sigmoid(z):\n",
    "    \"\"\"\n",
    "    Compute the sigmoid of z\n",
    "\n",
    "    Arguments:\n",
    "    z -- A scalar or numpy array of any size.\n",
    "\n",
    "    Return:\n",
    "    s -- sigmoid(z)\n",
    "    \"\"\"\n",
    "\n",
    "    ### START CODE HERE ### (≈ 1 line of code)\n",
<<<<<<< HEAD
    "    s = 1/(1+np.exp(-z))\n",
=======
    "    s = None\n",
>>>>>>> b400ae376139c8f5c06abe0142e41795c8eccc72
    "    ### END CODE HERE ###\n",
    "    \n",
    "    return s"
   ]
  },
  {
   "cell_type": "code",
<<<<<<< HEAD
   "execution_count": 9,
   "metadata": {
    "scrolled": true
   },
   "outputs": [
    {
     "name": "stdout",
     "output_type": "stream",
     "text": [
      "sigmoid([0, 2]) = [ 0.5         0.88079708]\n"
     ]
    }
   ],
=======
   "execution_count": null,
   "metadata": {
    "collapsed": true,
    "scrolled": true
   },
   "outputs": [],
>>>>>>> b400ae376139c8f5c06abe0142e41795c8eccc72
   "source": [
    "print (\"sigmoid([0, 2]) = \" + str(sigmoid(np.array([0,2]))))"
   ]
  },
  {
   "cell_type": "markdown",
   "metadata": {},
   "source": [
    "**Expected Output**: \n",
    "\n",
    "<table>\n",
    "  <tr>\n",
    "    <td>**sigmoid([0, 2])**</td>\n",
    "    <td> [ 0.5         0.88079708]</td> \n",
    "  </tr>\n",
    "</table>"
   ]
  },
  {
   "cell_type": "markdown",
   "metadata": {},
   "source": [
    "### 4.2 - Initializing parameters\n",
    "\n",
    "**Exercise:** Implement parameter initialization in the cell below. You have to initialize w as a vector of zeros. If you don't know what numpy function to use, look up np.zeros() in the Numpy library's documentation."
   ]
  },
  {
   "cell_type": "code",
<<<<<<< HEAD
   "execution_count": 11,
=======
   "execution_count": null,
>>>>>>> b400ae376139c8f5c06abe0142e41795c8eccc72
   "metadata": {
    "collapsed": true
   },
   "outputs": [],
   "source": [
    "# GRADED FUNCTION: initialize_with_zeros\n",
    "\n",
    "def initialize_with_zeros(dim):\n",
    "    \"\"\"\n",
    "    This function creates a vector of zeros of shape (dim, 1) for w and initializes b to 0.\n",
    "    \n",
    "    Argument:\n",
    "    dim -- size of the w vector we want (or number of parameters in this case)\n",
    "    \n",
    "    Returns:\n",
    "    w -- initialized vector of shape (dim, 1)\n",
    "    b -- initialized scalar (corresponds to the bias)\n",
    "    \"\"\"\n",
    "    \n",
    "    ### START CODE HERE ### (≈ 1 line of code)\n",
<<<<<<< HEAD
    "    w = np.zeros(dim).reshape(dim, 1)\n",
    "    b = 0\n",
=======
    "    w = None\n",
    "    b = None\n",
>>>>>>> b400ae376139c8f5c06abe0142e41795c8eccc72
    "    ### END CODE HERE ###\n",
    "\n",
    "    assert(w.shape == (dim, 1))\n",
    "    assert(isinstance(b, float) or isinstance(b, int))\n",
    "    \n",
    "    return w, b"
   ]
  },
  {
   "cell_type": "code",
<<<<<<< HEAD
   "execution_count": 12,
   "metadata": {},
   "outputs": [
    {
     "name": "stdout",
     "output_type": "stream",
     "text": [
      "w = [[ 0.]\n",
      " [ 0.]]\n",
      "b = 0\n"
     ]
    }
   ],
=======
   "execution_count": null,
   "metadata": {
    "collapsed": true
   },
   "outputs": [],
>>>>>>> b400ae376139c8f5c06abe0142e41795c8eccc72
   "source": [
    "dim = 2\n",
    "w, b = initialize_with_zeros(dim)\n",
    "print (\"w = \" + str(w))\n",
    "print (\"b = \" + str(b))"
   ]
  },
  {
   "cell_type": "markdown",
   "metadata": {},
   "source": [
    "**Expected Output**: \n",
    "\n",
    "\n",
    "<table style=\"width:15%\">\n",
    "    <tr>\n",
    "        <td>  ** w **  </td>\n",
    "        <td> [[ 0.]\n",
    " [ 0.]] </td>\n",
    "    </tr>\n",
    "    <tr>\n",
    "        <td>  ** b **  </td>\n",
    "        <td> 0 </td>\n",
    "    </tr>\n",
    "</table>\n",
    "\n",
    "For image inputs, w will be of shape (num_px $\\times$ num_px $\\times$ 3, 1)."
   ]
  },
  {
   "cell_type": "markdown",
   "metadata": {},
   "source": [
    "### 4.3 - Forward and Backward propagation\n",
    "\n",
    "Now that your parameters are initialized, you can do the \"forward\" and \"backward\" propagation steps for learning the parameters.\n",
    "\n",
    "**Exercise:** Implement a function `propagate()` that computes the cost function and its gradient.\n",
    "\n",
    "**Hints**:\n",
    "\n",
    "Forward Propagation:\n",
    "- You get X\n",
    "- You compute $A = \\sigma(w^T X + b) = (a^{(1)}, a^{(2)}, ..., a^{(m-1)}, a^{(m)})$\n",
    "- You calculate the cost function: $J = -\\frac{1}{m}\\sum_{i=1}^{m}y^{(i)}\\log(a^{(i)})+(1-y^{(i)})\\log(1-a^{(i)})$\n",
    "\n",
    "Here are the two formulas you will be using: \n",
    "\n",
    "$$ \\frac{\\partial J}{\\partial w} = \\frac{1}{m}X(A-Y)^T\\tag{7}$$\n",
    "$$ \\frac{\\partial J}{\\partial b} = \\frac{1}{m} \\sum_{i=1}^m (a^{(i)}-y^{(i)})\\tag{8}$$"
   ]
  },
  {
   "cell_type": "code",
<<<<<<< HEAD
   "execution_count": 48,
=======
   "execution_count": null,
>>>>>>> b400ae376139c8f5c06abe0142e41795c8eccc72
   "metadata": {
    "collapsed": true
   },
   "outputs": [],
   "source": [
    "# GRADED FUNCTION: propagate\n",
    "\n",
    "def propagate(w, b, X, Y):\n",
    "    \"\"\"\n",
    "    Implement the cost function and its gradient for the propagation explained above\n",
    "\n",
    "    Arguments:\n",
    "    w -- weights, a numpy array of size (num_px * num_px * 3, 1)\n",
    "    b -- bias, a scalar\n",
    "    X -- data of size (num_px * num_px * 3, number of examples)\n",
    "    Y -- true \"label\" vector (containing 0 if non-cat, 1 if cat) of size (1, number of examples)\n",
    "\n",
    "    Return:\n",
    "    cost -- negative log-likelihood cost for logistic regression\n",
    "    dw -- gradient of the loss with respect to w, thus same shape as w\n",
    "    db -- gradient of the loss with respect to b, thus same shape as b\n",
    "    \n",
    "    Tips:\n",
    "    - Write your code step by step for the propagation. np.log(), np.dot()\n",
    "    \"\"\"\n",
    "    \n",
    "    m = X.shape[1]\n",
    "    \n",
    "    # FORWARD PROPAGATION (FROM X TO COST)\n",
    "    ### START CODE HERE ### (≈ 2 lines of code)\n",
<<<<<<< HEAD
    "    A = sigmoid(np.dot(w.T, X) + b)\n",
    "    # compute activation\n",
    "    cost = -(1.0/m)*(np.dot(Y, np.log(A.T))) - (1.0/m)*(np.dot((1-Y), np.log(1-A.T)))                                # compute cost\n",
=======
    "    A = None                                    # compute activation\n",
    "    cost = None                                 # compute cost\n",
>>>>>>> b400ae376139c8f5c06abe0142e41795c8eccc72
    "    ### END CODE HERE ###\n",
    "    \n",
    "    # BACKWARD PROPAGATION (TO FIND GRAD)\n",
    "    ### START CODE HERE ### (≈ 2 lines of code)\n",
<<<<<<< HEAD
    "    dw = (1.0/m)*np.dot(X, (A-Y).T)\n",
    "    db = (1.0/m)*np.sum(A-Y )\n",
=======
    "    dw = None\n",
    "    db = None\n",
>>>>>>> b400ae376139c8f5c06abe0142e41795c8eccc72
    "    ### END CODE HERE ###\n",
    "\n",
    "    assert(dw.shape == w.shape)\n",
    "    assert(db.dtype == float)\n",
    "    cost = np.squeeze(cost)\n",
    "    assert(cost.shape == ())\n",
    "    \n",
    "    grads = {\"dw\": dw,\n",
    "             \"db\": db}\n",
    "    \n",
    "    return grads, cost"
   ]
  },
  {
   "cell_type": "code",
<<<<<<< HEAD
   "execution_count": 49,
   "metadata": {},
   "outputs": [
    {
     "name": "stdout",
     "output_type": "stream",
     "text": [
      "dw = [[ 0.99845601]\n",
      " [ 2.39507239]]\n",
      "db = 0.00145557813678\n",
      "cost = 5.801545319394553\n"
     ]
    }
   ],
=======
   "execution_count": null,
   "metadata": {
    "collapsed": true
   },
   "outputs": [],
>>>>>>> b400ae376139c8f5c06abe0142e41795c8eccc72
   "source": [
    "w, b, X, Y = np.array([[1.],[2.]]), 2., np.array([[1.,2.,-1.],[3.,4.,-3.2]]), np.array([[1,0,1]])\n",
    "grads, cost = propagate(w, b, X, Y)\n",
    "print (\"dw = \" + str(grads[\"dw\"]))\n",
    "print (\"db = \" + str(grads[\"db\"]))\n",
    "print (\"cost = \" + str(cost))"
   ]
  },
  {
   "cell_type": "markdown",
   "metadata": {},
   "source": [
    "**Expected Output**:\n",
    "\n",
    "<table style=\"width:50%\">\n",
    "    <tr>\n",
    "        <td>  ** dw **  </td>\n",
    "      <td> [[ 0.99845601]\n",
    "     [ 2.39507239]]</td>\n",
    "    </tr>\n",
    "    <tr>\n",
    "        <td>  ** db **  </td>\n",
    "        <td> 0.00145557813678 </td>\n",
    "    </tr>\n",
    "    <tr>\n",
    "        <td>  ** cost **  </td>\n",
    "        <td> 5.801545319394553 </td>\n",
    "    </tr>\n",
    "\n",
    "</table>"
   ]
  },
  {
   "cell_type": "markdown",
   "metadata": {},
   "source": [
    "### 4.4 - Optimization\n",
    "- You have initialized your parameters.\n",
    "- You are also able to compute a cost function and its gradient.\n",
    "- Now, you want to update the parameters using gradient descent.\n",
    "\n",
    "**Exercise:** Write down the optimization function. The goal is to learn $w$ and $b$ by minimizing the cost function $J$. For a parameter $\\theta$, the update rule is $ \\theta = \\theta - \\alpha \\text{ } d\\theta$, where $\\alpha$ is the learning rate."
   ]
  },
  {
   "cell_type": "code",
<<<<<<< HEAD
   "execution_count": 50,
=======
   "execution_count": null,
>>>>>>> b400ae376139c8f5c06abe0142e41795c8eccc72
   "metadata": {
    "collapsed": true
   },
   "outputs": [],
   "source": [
    "# GRADED FUNCTION: optimize\n",
    "\n",
    "def optimize(w, b, X, Y, num_iterations, learning_rate, print_cost = False):\n",
    "    \"\"\"\n",
    "    This function optimizes w and b by running a gradient descent algorithm\n",
    "    \n",
    "    Arguments:\n",
    "    w -- weights, a numpy array of size (num_px * num_px * 3, 1)\n",
    "    b -- bias, a scalar\n",
    "    X -- data of shape (num_px * num_px * 3, number of examples)\n",
    "    Y -- true \"label\" vector (containing 0 if non-cat, 1 if cat), of shape (1, number of examples)\n",
    "    num_iterations -- number of iterations of the optimization loop\n",
    "    learning_rate -- learning rate of the gradient descent update rule\n",
    "    print_cost -- True to print the loss every 100 steps\n",
    "    \n",
    "    Returns:\n",
    "    params -- dictionary containing the weights w and bias b\n",
    "    grads -- dictionary containing the gradients of the weights and bias with respect to the cost function\n",
    "    costs -- list of all the costs computed during the optimization, this will be used to plot the learning curve.\n",
    "    \n",
    "    Tips:\n",
    "    You basically need to write down two steps and iterate through them:\n",
    "        1) Calculate the cost and the gradient for the current parameters. Use propagate().\n",
    "        2) Update the parameters using gradient descent rule for w and b.\n",
    "    \"\"\"\n",
    "    \n",
    "    costs = []\n",
    "    \n",
    "    for i in range(num_iterations):\n",
    "        \n",
    "        \n",
    "        # Cost and gradient calculation (≈ 1-4 lines of code)\n",
    "        ### START CODE HERE ### \n",
<<<<<<< HEAD
    "        grads, cost = propagate(w, b, X, Y)\n",
=======
    "        grads, cost = None\n",
>>>>>>> b400ae376139c8f5c06abe0142e41795c8eccc72
    "        ### END CODE HERE ###\n",
    "        \n",
    "        # Retrieve derivatives from grads\n",
    "        dw = grads[\"dw\"]\n",
    "        db = grads[\"db\"]\n",
    "        \n",
    "        # update rule (≈ 2 lines of code)\n",
    "        ### START CODE HERE ###\n",
<<<<<<< HEAD
    "        w = w - learning_rate*dw\n",
    "        b = b - learning_rate*db\n",
=======
    "        w = None\n",
    "        b = None\n",
>>>>>>> b400ae376139c8f5c06abe0142e41795c8eccc72
    "        ### END CODE HERE ###\n",
    "        \n",
    "        # Record the costs\n",
    "        if i % 100 == 0:\n",
    "            costs.append(cost)\n",
    "        \n",
    "        # Print the cost every 100 training iterations\n",
    "        if print_cost and i % 100 == 0:\n",
    "            print (\"Cost after iteration %i: %f\" %(i, cost))\n",
    "    \n",
    "    params = {\"w\": w,\n",
    "              \"b\": b}\n",
    "    \n",
    "    grads = {\"dw\": dw,\n",
    "             \"db\": db}\n",
    "    \n",
    "    return params, grads, costs"
   ]
  },
  {
   "cell_type": "code",
<<<<<<< HEAD
   "execution_count": 51,
   "metadata": {},
   "outputs": [
    {
     "name": "stdout",
     "output_type": "stream",
     "text": [
      "w = [[ 0.19033591]\n",
      " [ 0.12259159]]\n",
      "b = 1.92535983008\n",
      "dw = [[ 0.67752042]\n",
      " [ 1.41625495]]\n",
      "db = 0.219194504541\n"
     ]
    }
   ],
=======
   "execution_count": null,
   "metadata": {
    "collapsed": true
   },
   "outputs": [],
>>>>>>> b400ae376139c8f5c06abe0142e41795c8eccc72
   "source": [
    "params, grads, costs = optimize(w, b, X, Y, num_iterations= 100, learning_rate = 0.009, print_cost = False)\n",
    "\n",
    "print (\"w = \" + str(params[\"w\"]))\n",
    "print (\"b = \" + str(params[\"b\"]))\n",
    "print (\"dw = \" + str(grads[\"dw\"]))\n",
    "print (\"db = \" + str(grads[\"db\"]))"
   ]
  },
  {
   "cell_type": "markdown",
   "metadata": {},
   "source": [
    "**Expected Output**: \n",
    "\n",
    "<table style=\"width:40%\">\n",
    "    <tr>\n",
    "       <td> **w** </td>\n",
    "       <td>[[ 0.19033591]\n",
    " [ 0.12259159]] </td>\n",
    "    </tr>\n",
    "    \n",
    "    <tr>\n",
    "       <td> **b** </td>\n",
    "       <td> 1.92535983008 </td>\n",
    "    </tr>\n",
    "    <tr>\n",
    "       <td> **dw** </td>\n",
    "       <td> [[ 0.67752042]\n",
    " [ 1.41625495]] </td>\n",
    "    </tr>\n",
    "    <tr>\n",
    "       <td> **db** </td>\n",
    "       <td> 0.219194504541 </td>\n",
    "    </tr>\n",
    "\n",
    "</table>"
   ]
  },
  {
   "cell_type": "markdown",
   "metadata": {},
   "source": [
    "**Exercise:** The previous function will output the learned w and b. We are able to use w and b to predict the labels for a dataset X. Implement the `predict()` function. There are two steps to computing predictions:\n",
    "\n",
    "1. Calculate $\\hat{Y} = A = \\sigma(w^T X + b)$\n",
    "\n",
    "2. Convert the entries of a into 0 (if activation <= 0.5) or 1 (if activation > 0.5), stores the predictions in a vector `Y_prediction`. If you wish, you can use an `if`/`else` statement in a `for` loop (though there is also a way to vectorize this). "
   ]
  },
  {
   "cell_type": "code",
<<<<<<< HEAD
   "execution_count": 57,
=======
   "execution_count": null,
>>>>>>> b400ae376139c8f5c06abe0142e41795c8eccc72
   "metadata": {
    "collapsed": true
   },
   "outputs": [],
   "source": [
    "# GRADED FUNCTION: predict\n",
    "\n",
    "def predict(w, b, X):\n",
    "    '''\n",
    "    Predict whether the label is 0 or 1 using learned logistic regression parameters (w, b)\n",
    "    \n",
    "    Arguments:\n",
    "    w -- weights, a numpy array of size (num_px * num_px * 3, 1)\n",
    "    b -- bias, a scalar\n",
    "    X -- data of size (num_px * num_px * 3, number of examples)\n",
    "    \n",
    "    Returns:\n",
    "    Y_prediction -- a numpy array (vector) containing all predictions (0/1) for the examples in X\n",
    "    '''\n",
    "    \n",
    "    m = X.shape[1]\n",
    "    Y_prediction = np.zeros((1,m))\n",
    "    w = w.reshape(X.shape[0], 1)\n",
    "    \n",
    "    # Compute vector \"A\" predicting the probabilities of a cat being present in the picture\n",
    "    ### START CODE HERE ### (≈ 1 line of code)\n",
<<<<<<< HEAD
    "    A = sigmoid(np.dot(w.T, X) + b)\n",
    "    print(A)\n",
=======
    "    A = None\n",
>>>>>>> b400ae376139c8f5c06abe0142e41795c8eccc72
    "    ### END CODE HERE ###\n",
    "    \n",
    "    for i in range(A.shape[1]):\n",
    "        \n",
    "        # Convert probabilities A[0,i] to actual predictions p[0,i]\n",
    "        ### START CODE HERE ### (≈ 4 lines of code)\n",
<<<<<<< HEAD
    "        Y_prediction[:, i] = (A[:, i] > 0.5) * 1\n",
=======
    "        pass\n",
>>>>>>> b400ae376139c8f5c06abe0142e41795c8eccc72
    "        ### END CODE HERE ###\n",
    "    \n",
    "    assert(Y_prediction.shape == (1, m))\n",
    "    \n",
    "    return Y_prediction"
   ]
  },
  {
   "cell_type": "code",
<<<<<<< HEAD
   "execution_count": 58,
   "metadata": {},
   "outputs": [
    {
     "name": "stdout",
     "output_type": "stream",
     "text": [
      "[[ 0.52241976  0.50960677  0.34597965]]\n",
      "predictions = [[ 1.  1.  0.]]\n"
     ]
    }
   ],
=======
   "execution_count": null,
   "metadata": {
    "collapsed": true
   },
   "outputs": [],
>>>>>>> b400ae376139c8f5c06abe0142e41795c8eccc72
   "source": [
    "w = np.array([[0.1124579],[0.23106775]])\n",
    "b = -0.3\n",
    "X = np.array([[1.,-1.1,-3.2],[1.2,2.,0.1]])\n",
    "print (\"predictions = \" + str(predict(w, b, X)))"
   ]
  },
  {
   "cell_type": "markdown",
   "metadata": {},
   "source": [
    "**Expected Output**: \n",
    "\n",
    "<table style=\"width:30%\">\n",
    "    <tr>\n",
    "         <td>\n",
    "             **predictions**\n",
    "         </td>\n",
    "          <td>\n",
    "            [[ 1.  1.  0.]]\n",
    "         </td>  \n",
    "   </tr>\n",
    "\n",
    "</table>\n"
   ]
  },
  {
   "cell_type": "markdown",
   "metadata": {},
   "source": [
    "<font color='blue'>\n",
    "**What to remember:**\n",
    "You've implemented several functions that:\n",
    "- Initialize (w,b)\n",
    "- Optimize the loss iteratively to learn parameters (w,b):\n",
    "    - computing the cost and its gradient \n",
    "    - updating the parameters using gradient descent\n",
    "- Use the learned (w,b) to predict the labels for a given set of examples"
   ]
  },
  {
   "cell_type": "markdown",
   "metadata": {},
   "source": [
    "## 5 - Merge all functions into a model ##\n",
    "\n",
    "You will now see how the overall model is structured by putting together all the building blocks (functions implemented in the previous parts) together, in the right order.\n",
    "\n",
    "**Exercise:** Implement the model function. Use the following notation:\n",
    "    - Y_prediction_test for your predictions on the test set\n",
    "    - Y_prediction_train for your predictions on the train set\n",
    "    - w, costs, grads for the outputs of optimize()"
   ]
  },
  {
   "cell_type": "code",
<<<<<<< HEAD
   "execution_count": 63,
=======
   "execution_count": null,
>>>>>>> b400ae376139c8f5c06abe0142e41795c8eccc72
   "metadata": {
    "collapsed": true
   },
   "outputs": [],
   "source": [
    "# GRADED FUNCTION: model\n",
    "\n",
    "def model(X_train, Y_train, X_test, Y_test, num_iterations = 2000, learning_rate = 0.5, print_cost = False):\n",
    "    \"\"\"\n",
    "    Builds the logistic regression model by calling the function you've implemented previously\n",
    "    \n",
    "    Arguments:\n",
    "    X_train -- training set represented by a numpy array of shape (num_px * num_px * 3, m_train)\n",
    "    Y_train -- training labels represented by a numpy array (vector) of shape (1, m_train)\n",
    "    X_test -- test set represented by a numpy array of shape (num_px * num_px * 3, m_test)\n",
    "    Y_test -- test labels represented by a numpy array (vector) of shape (1, m_test)\n",
    "    num_iterations -- hyperparameter representing the number of iterations to optimize the parameters\n",
    "    learning_rate -- hyperparameter representing the learning rate used in the update rule of optimize()\n",
    "    print_cost -- Set to true to print the cost every 100 iterations\n",
    "    \n",
    "    Returns:\n",
    "    d -- dictionary containing information about the model.\n",
    "    \"\"\"\n",
    "    \n",
    "    ### START CODE HERE ###\n",
    "    \n",
    "    # initialize parameters with zeros (≈ 1 line of code)\n",
<<<<<<< HEAD
    "    w, b = initialize_with_zeros(X_train.shape[0])\n",
    "\n",
    "    # Gradient descent (≈ 1 line of code)\n",
    "    parameters, grads, costs = optimize(w, b, X_train, Y_train, num_iterations, learning_rate, print_cost)\n",
=======
    "    w, b = None\n",
    "\n",
    "    # Gradient descent (≈ 1 line of code)\n",
    "    parameters, grads, costs = None\n",
>>>>>>> b400ae376139c8f5c06abe0142e41795c8eccc72
    "    \n",
    "    # Retrieve parameters w and b from dictionary \"parameters\"\n",
    "    w = parameters[\"w\"]\n",
    "    b = parameters[\"b\"]\n",
    "    \n",
    "    # Predict test/train set examples (≈ 2 lines of code)\n",
<<<<<<< HEAD
    "    Y_prediction_test = predict(w, b, X_test)\n",
    "    Y_prediction_train = predict(w, b, X_train)\n",
=======
    "    Y_prediction_test = None\n",
    "    Y_prediction_train = None\n",
>>>>>>> b400ae376139c8f5c06abe0142e41795c8eccc72
    "\n",
    "    ### END CODE HERE ###\n",
    "\n",
    "    # Print train/test Errors\n",
    "    print(\"train accuracy: {} %\".format(100 - np.mean(np.abs(Y_prediction_train - Y_train)) * 100))\n",
    "    print(\"test accuracy: {} %\".format(100 - np.mean(np.abs(Y_prediction_test - Y_test)) * 100))\n",
    "\n",
    "    \n",
    "    d = {\"costs\": costs,\n",
    "         \"Y_prediction_test\": Y_prediction_test, \n",
    "         \"Y_prediction_train\" : Y_prediction_train, \n",
    "         \"w\" : w, \n",
    "         \"b\" : b,\n",
    "         \"learning_rate\" : learning_rate,\n",
    "         \"num_iterations\": num_iterations}\n",
    "    \n",
    "    return d"
   ]
  },
  {
   "cell_type": "markdown",
   "metadata": {},
   "source": [
    "Run the following cell to train your model."
   ]
  },
  {
   "cell_type": "code",
<<<<<<< HEAD
   "execution_count": 64,
   "metadata": {},
   "outputs": [
    {
     "name": "stdout",
     "output_type": "stream",
     "text": [
      "Cost after iteration 0: 0.693147\n",
      "Cost after iteration 100: 0.584508\n",
      "Cost after iteration 200: 0.466949\n",
      "Cost after iteration 300: 0.376007\n",
      "Cost after iteration 400: 0.331463\n",
      "Cost after iteration 500: 0.303273\n",
      "Cost after iteration 600: 0.279880\n",
      "Cost after iteration 700: 0.260042\n",
      "Cost after iteration 800: 0.242941\n",
      "Cost after iteration 900: 0.228004\n",
      "Cost after iteration 1000: 0.214820\n",
      "Cost after iteration 1100: 0.203078\n",
      "Cost after iteration 1200: 0.192544\n",
      "Cost after iteration 1300: 0.183033\n",
      "Cost after iteration 1400: 0.174399\n",
      "Cost after iteration 1500: 0.166521\n",
      "Cost after iteration 1600: 0.159305\n",
      "Cost after iteration 1700: 0.152667\n",
      "Cost after iteration 1800: 0.146542\n",
      "Cost after iteration 1900: 0.140872\n",
      "[[ 0.94366988  0.86095311  0.88896715  0.93630641  0.74075403  0.52849619\n",
      "   0.03094677  0.85707681  0.88457925  0.67279696  0.26601085  0.4823794\n",
      "   0.74741157  0.78575729  0.00978911  0.9203284   0.02453695  0.84884703\n",
      "   0.2050248   0.03703224  0.92931392  0.11930532  0.01411064  0.7832698\n",
      "   0.58188015  0.66897565  0.75119007  0.01323558  0.03402649  0.99735115\n",
      "   0.21031727  0.78123225  0.6815842   0.46647604  0.66323375  0.03424828\n",
      "   0.08031627  0.76570656  0.34760863  0.06177743  0.6987531   0.4106426\n",
      "   0.6648871   0.02776868  0.93053125  0.46395717  0.23971605  0.9771735\n",
      "   0.66202407  0.10482388]]\n",
      "[[  1.96533335e-01   8.97519936e-02   8.90887727e-01   2.05354859e-04\n",
      "    4.10043201e-02   1.13855541e-01   3.58425358e-02   9.20256043e-01\n",
      "    8.11815498e-02   5.09505652e-02   1.43687735e-01   7.77661312e-01\n",
      "    2.37002682e-01   9.26822611e-01   7.20256211e-01   4.54525029e-02\n",
      "    2.88164240e-02   4.96209946e-02   9.53642451e-02   9.27127783e-01\n",
      "    1.46871713e-02   4.42749993e-02   1.99658284e-01   5.10794145e-02\n",
      "    8.71854257e-01   8.54873232e-01   4.43988460e-02   8.41877286e-01\n",
      "    5.57178266e-02   7.39175253e-01   8.73390575e-02   7.61255429e-02\n",
      "    2.01282223e-01   2.02159519e-01   7.95065561e-02   3.69885691e-02\n",
      "    1.14655638e-02   5.90397260e-02   8.36880946e-01   3.33057415e-01\n",
      "    1.98548242e-02   4.46965063e-01   8.23737950e-01   4.13465923e-02\n",
      "    4.61512591e-02   1.21739845e-01   9.76716144e-02   8.07086225e-01\n",
      "    8.93389416e-03   3.73249849e-02   7.53711249e-01   2.47934596e-01\n",
      "    1.47013078e-01   3.93089594e-01   9.02530607e-01   3.94290174e-03\n",
      "    9.38300399e-01   8.14429890e-01   5.51201724e-02   9.56820776e-01\n",
      "    8.35826040e-01   7.75371183e-01   4.97406386e-02   5.05302748e-02\n",
      "    1.68276426e-01   7.39795683e-02   4.23114248e-02   1.80374321e-01\n",
      "    7.36839673e-01   2.36170561e-02   4.78407244e-02   9.72682719e-01\n",
      "    8.87430447e-02   1.40500115e-01   7.39006094e-02   5.87414480e-01\n",
      "    8.55122639e-04   3.51320419e-02   7.21341360e-02   1.59367000e-01\n",
      "    9.18793718e-02   2.76678199e-03   2.16954763e-02   8.75788002e-01\n",
      "    7.48905473e-01   2.61224310e-02   1.31264831e-01   5.58549892e-02\n",
      "    7.96470422e-01   4.31114360e-02   2.46081640e-01   9.28094796e-02\n",
      "    5.13207713e-01   9.23532733e-01   9.11010943e-01   1.56664277e-01\n",
      "    1.40529680e-01   8.72871654e-01   6.33390909e-02   2.04276699e-01\n",
      "    1.50378528e-01   5.42005811e-02   7.16869008e-01   8.93930822e-02\n",
      "    9.68748123e-01   1.16897229e-01   9.65813244e-01   7.63463753e-01\n",
      "    8.45184245e-01   7.94804824e-01   8.77046596e-01   8.92528474e-01\n",
      "    2.33698759e-02   1.08088606e-01   9.41045938e-02   5.06133571e-02\n",
      "    6.14255764e-02   8.74814031e-01   7.14021606e-03   1.49573407e-01\n",
      "    1.38752636e-02   5.75050572e-01   4.74218632e-02   2.67728414e-04\n",
      "    8.16437270e-01   5.25431990e-03   8.27320337e-01   1.63520986e-01\n",
      "    9.19597717e-01   9.11124533e-01   2.96731271e-01   1.37316359e-01\n",
      "    7.56632692e-02   9.51896490e-01   7.13340131e-01   5.62771203e-01\n",
      "    8.46803645e-01   8.81283783e-01   5.80214923e-03   3.24191787e-02\n",
      "    3.66569448e-02   4.24241240e-02   9.02746461e-01   6.95602248e-03\n",
      "    7.28528692e-01   8.04734016e-01   8.48847026e-01   1.97286016e-01\n",
      "    8.73972266e-01   8.56810568e-01   4.60108117e-01   9.98074787e-02\n",
      "    2.67726747e-02   9.16713593e-01   5.70477051e-02   2.34413956e-01\n",
      "    9.17441504e-01   1.43642340e-02   1.48384241e-02   4.18971050e-02\n",
      "    4.81257763e-03   6.74987512e-02   7.96958661e-01   7.94548221e-02\n",
      "    8.88055227e-01   1.63703299e-02   9.64896262e-01   4.74597209e-02\n",
      "    3.78354422e-02   6.75950812e-01   7.60983832e-01   8.91154251e-01\n",
      "    2.15482871e-01   1.80695199e-02   9.46591763e-01   7.71101522e-01\n",
      "    4.14565207e-02   8.02916154e-01   8.02541805e-02   6.89037478e-01\n",
      "    4.92103989e-02   4.87010785e-02   1.89987579e-02   3.71043577e-02\n",
      "    1.73595068e-03   7.71575747e-01   4.06433366e-02   6.60606392e-02\n",
      "    8.34508562e-01   2.27408842e-02   6.17839573e-02   4.56149270e-02\n",
      "    7.64947622e-01   6.19347921e-02   3.55887869e-03   1.03103435e-01\n",
      "    3.83745905e-01   8.77909931e-01   7.72818586e-02   1.79082665e-02\n",
      "    8.09911232e-01   2.02130387e-02   1.89353139e-02   1.83142729e-02\n",
      "    1.94041166e-01   2.01151983e-01   8.48224028e-02   1.61929290e-01\n",
      "    1.82858623e-01]]\n",
      "train accuracy: 99.04306220095694 %\n",
      "test accuracy: 70.0 %\n"
     ]
    }
   ],
=======
   "execution_count": null,
   "metadata": {
    "collapsed": true
   },
   "outputs": [],
>>>>>>> b400ae376139c8f5c06abe0142e41795c8eccc72
   "source": [
    "d = model(train_set_x, train_set_y, test_set_x, test_set_y, num_iterations = 2000, learning_rate = 0.005, print_cost = True)"
   ]
  },
  {
   "cell_type": "markdown",
   "metadata": {},
   "source": [
    "**Expected Output**: \n",
    "\n",
    "<table style=\"width:40%\"> \n",
    "\n",
    "    <tr>\n",
    "        <td> **Cost after iteration 0 **  </td> \n",
    "        <td> 0.693147 </td>\n",
    "    </tr>\n",
    "      <tr>\n",
    "        <td> <center> $\\vdots$ </center> </td> \n",
    "        <td> <center> $\\vdots$ </center> </td> \n",
    "    </tr>  \n",
    "    <tr>\n",
    "        <td> **Train Accuracy**  </td> \n",
    "        <td> 99.04306220095694 % </td>\n",
    "    </tr>\n",
    "\n",
    "    <tr>\n",
    "        <td>**Test Accuracy** </td> \n",
    "        <td> 70.0 % </td>\n",
    "    </tr>\n",
    "</table> \n",
    "\n",
    "\n"
   ]
  },
  {
   "cell_type": "markdown",
   "metadata": {},
   "source": [
    "**Comment**: Training accuracy is close to 100%. This is a good sanity check: your model is working and has high enough capacity to fit the training data. Test accuracy is 68%. It is actually not bad for this simple model, given the small dataset we used and that logistic regression is a linear classifier. But no worries, you'll build an even better classifier next week!\n",
    "\n",
    "Also, you see that the model is clearly overfitting the training data. Later in this specialization you will learn how to reduce overfitting, for example by using regularization. Using the code below (and changing the `index` variable) you can look at predictions on pictures of the test set."
   ]
  },
  {
   "cell_type": "code",
<<<<<<< HEAD
   "execution_count": 69,
   "metadata": {},
   "outputs": [
    {
     "name": "stdout",
     "output_type": "stream",
     "text": [
      "y = 1, you predicted that it is a \"non-cat\" picture.\n"
     ]
    },
    {
     "data": {
      "image/png": "iVBORw0KGgoAAAANSUhEUgAAAP8AAAD8CAYAAAC4nHJkAAAABHNCSVQICAgIfAhkiAAAAAlwSFlz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\nR0SsKP4/JJk9Ohps81cAAAAASUVORK5CYII=\n",
      "text/plain": [
       "<matplotlib.figure.Figure at 0x7f30bf1d0390>"
      ]
     },
     "metadata": {},
     "output_type": "display_data"
    }
   ],
   "source": [
    "# Example of a picture that was wrongly classified.\n",
    "index = 46\n",
=======
   "execution_count": null,
   "metadata": {
    "collapsed": true
   },
   "outputs": [],
   "source": [
    "# Example of a picture that was wrongly classified.\n",
    "index = 1\n",
>>>>>>> b400ae376139c8f5c06abe0142e41795c8eccc72
    "plt.imshow(test_set_x[:,index].reshape((num_px, num_px, 3)))\n",
    "print (\"y = \" + str(test_set_y[0,index]) + \", you predicted that it is a \\\"\" + classes[d[\"Y_prediction_test\"][0,index]].decode(\"utf-8\") +  \"\\\" picture.\")"
   ]
  },
  {
   "cell_type": "markdown",
   "metadata": {},
   "source": [
    "Let's also plot the cost function and the gradients."
   ]
  },
  {
   "cell_type": "code",
<<<<<<< HEAD
   "execution_count": 70,
   "metadata": {},
   "outputs": [
    {
     "data": {
      "image/png": "iVBORw0KGgoAAAANSUhEUgAAAYUAAAEWCAYAAACJ0YulAAAABHNCSVQICAgIfAhkiAAAAAlwSFlz\nAAALEgAACxIB0t1+/AAAIABJREFUeJzt3Xl8VfWd//HXJwlJSEI2EiAkIWEVRUAlgCtuXdTaWqs4\nbt1sx6Ed2um0s/j7zW86nel0HtN22hlb27G2Vdtq3a1SqrWuxV0CBmSVyBrWsAbCmuTz++OcxEtM\nQoDcnJvc9/PxuI/ce873nvO5h8t937Pc79fcHREREYCUqAsQEZHEoVAQEZE2CgUREWmjUBARkTYK\nBRERaaNQEBGRNgoF6ZfM7Gkz+2zUdYj0NQoF6VFmttbMPhR1He5+ubv/Kuo6AMzsJTP7Yi+sJ8PM\n7jazBjPbYmZfP0b7G81snZk1mtkTZlbY3WWZmYfP2xfefhGv1yW9S6EgfY6ZpUVdQ6tEqgX4FjAW\nqAAuBv7BzC7rqKGZTQB+BnwaGArsB356nMua7O454S3uoSe9Q6EgvcbMrjSzGjPbbWavmdmkmHm3\nmdl7ZrbXzJaZ2dUx8z5nZq+a2X+b2Q7gW+G0V8zsv8xsl5mtMbPLY57T9u28G21Hmtm8cN3PmdlP\nzOy+Tl7DRWZWZ2b/aGZbgHvMrMDM5ppZfbj8uWZWFrb/DnABcEf4jfqOcPp4M3vWzHaa2Uozu64H\nNvFngW+7+y53Xw7cBXyuk7Y3Ab9393nuvg/4Z+BTZjboBJYl/YhCQXqFmZ0J3A38FTCY4FvqHDPL\nCJu8R/DhmQf8K3CfmZXELGI6sJrgW+13YqatBIqA7wG/NDPrpISu2v4WeCus61sE3567MgwoJPgW\nfSvB/6N7wscjgAPAHQDu/k/Ay8Ds8Bv1bDPLBp4N1zsEuB74qZmd1tHKzOynYZB2dFsctikASoBF\nMU9dBEzo5DVMiG3r7u8Bh4Bxx7GseeGhpcfNrLKT9Ugfo1CQ3nIr8DN3f9Pdm8Pj/YeAswHc/RF3\n3+TuLe7+ELAKmBbz/E3u/mN3b3L3A+G0de7+c3dvBn5F8EE2tJP1d9jWzEYAU4Fvuvthd38FmHOM\n19IC/Iu7H3L3A+6+w90fc/f97r6XILQu7OL5VwJr3f2e8PW8DTwGzOyosbt/2d3zO7m17m3lhH/3\nxDy1ARhEx3LatY1t351lXQhUAuOBTcDcBDuUJidIoSC9pQL4Ruy3XKAcGA5gZp+JObS0Gzid4Ft9\nqw0dLHNL6x133x/ezemgXVdthwM7Y6Z1tq5Y9e5+sPWBmWWZ2c/Ck7YNwDwg38xSO3l+BTC93ba4\niWAP5ETtC//mxkzLA/Z20T633bTW9sdcVnjY6bC77wb+hiAgTj2hyiWhKBSkt2wAvtPuW26Wuz9g\nZhXAz4HZwGB3zweWALGHguLVne9moNDMsmKmlR/jOe1r+QZwCjDd3XOBGeF066T9BuDP7bZFjrt/\nqaOVmdmdMVf5tL8tBXD3XeFrmRzz1MnA0k5ew9LYtmY2GkgH3j2BZbUt5hjzpQ9QKEg8DDCzzJhb\nGsGH/iwzm26BbDP7WHhiM5vgg7MewMw+T7CnEHfuvg6oJjh5nW5m5wAfP87FDCI4j7Dbgss6/6Xd\n/K3AqJjHcwmO3X/azAaEt6lm1uE3bXefFXOVT/tb7HH+XwP/LzzxfSrwl8C9ndR8P/BxM7sgPMfx\nbeDx8PBXl8syswlmdoaZpZpZDvBDYCOw/NibShKdQkHi4SmCD8nW27fcvZrgg+UOYBdQS3g1i7sv\nA34AvE7wAToReLUX670JOAfYAfw78BDB+Y7u+h9gILAdeAP4Y7v5twPXhlcm/Sj84P0IwQnmTQSH\ntr4LZHBy/oXghP064CXge+7eVku4Z3EBgLsvBWYRhMM2gmD+cjeXNZRgGzUQnPyvAK509yMnWb8k\nANMgOyJHM7OHgBXu3v4bv0i/pz0FSXrhoZvRZpZiwQ+0rgKeiLoukSjoEjKR4Kqfxwl+p1AHfCm8\nTFQk6ejwkYiItNHhIxERadPnDh8VFRV5ZWVl1GWIiPQpCxYs2O7uxcdq1+dCobKykurq6qjLEBHp\nU8xsXXfa6fCRiIi0USiIiEgbhYKIiLSJayiY2WXhACK1ZnZbB/P/PuwZs8bMlphZs8UMCSgiIr0r\nbqEQdhv8E+By4DTghvaDiLj79939DHc/A/g/BD1H7oxXTSIi0rV47ilMA2rdfbW7HwYeJOg+oDM3\nAA/EsR4RETmGeIZCKUcPVlIXTvuAsC/7ywhGn+po/q1mVm1m1fX19T1eqIiIBBLlRPPHgVc7O3Tk\n7ne5e5W7VxUXH/O3Fx2q3baPf/v9Mo40t5xMnSIi/Vo8Q2EjR49gVRZO68j1xPnQ0fqdjdz96hr+\ntHRrPFcjItKnxTMU5gNjzWykmaUTfPB/YEB0M8sjGAT8yTjWwoXjhlBWMJD73ujWj/pERJJS3ELB\n3ZsIxtx9hmCYvofdfamZzTKzWTFNrwb+5O6N8aoFIDXFuHH6CF5fvYPabZ2NZS4iktziek7B3Z9y\n93HuPtrdvxNOu9Pd74xpc6+7Xx/POlpdV1VOemoK972xvjdWJyLS5yTKieZeUZSTweUTh/HYgjr2\nH26KuhwRkYSTVKEA8OmzK9h7qIk5NZuiLkVEJOEkXShMqShg/LBB/OaNdWjUORGRoyVdKJgZN51d\nwdJNDdRs2B11OSIiCSXpQgHg6jNLyU5P5Te6PFVE5ChJGQo5GWlcfVYpcxdvZlfj4ajLERFJGEkZ\nCgA3n13B4aYWHlmw4diNRUSSRNKGwvhhuUytLOD+N9fT0qITziIikMShAMHewrod+3m5dnvUpYiI\nJISkDoXLTh/G4Ox09YckIhJK6lDISEvlL6aW8/zyrWzafSDqckREIpfUoQBww7QROPDAW+oPSUQk\n6UOhvDCLS04ZwoPzN3C4SQPwiEhyS/pQgOCEc/3eQ/xp2ZaoSxERiZRCAZgxrpjyQg3AIyKiUCAc\ngGdaBW+s3smqrRqAR0SSl0IhdF1VGempKdz/pk44i0jyUiiEBudkcEU4AE/jIQ3AIyLJSaEQ4+bW\nAXgWaQAeEUlOCoUYbQPwvK4BeEQkOSkUYpgZN59dwbLNDbytAXhEJAkpFNr55Jml5GSkcd/rujxV\nRJKPQqGdnIw0rj6zlLnvbGanBuARkSSjUOhA2wA81RqAR0SSi0KhA6cMG8S0ykJ++5YG4BGR5KJQ\n6MTN52gAHhFJPnENBTO7zMxWmlmtmd3WSZuLzKzGzJaa2Z/jWc/xuGzCMIpy0vmNTjiLSBKJWyiY\nWSrwE+By4DTgBjM7rV2bfOCnwCfcfQIwM171HK/0tBSuqyrnhRVb2agBeEQkScRzT2EaUOvuq939\nMPAgcFW7NjcCj7v7egB33xbHeo7bjdPDAXjUH5KIJIl4hkIpEHv5Tl04LdY4oMDMXjKzBWb2mTjW\nc9zKCjQAj4gkl6hPNKcBU4CPAR8F/tnMxrVvZGa3mlm1mVXX19f3aoE3n1PB9n2HeGapBuARkf4v\nnqGwESiPeVwWTotVBzzj7o3uvh2YB0xuvyB3v8vdq9y9qri4OG4Fd+TCsRqAR0SSRzxDYT4w1sxG\nmlk6cD0wp12bJ4HzzSzNzLKA6cDyONZ03FJSjJumV/Dmmp28qwF4RKSfi1souHsTMBt4huCD/mF3\nX2pms8xsVthmOfBHYDHwFvALd18Sr5pO1Mwp4QA82lsQkX7O+loX0VVVVV5dXd3r6/3bh2p4dtlW\n3vy/l5Kdkdbr6xcRORlmtsDdq47VLuoTzX3GTdNHsO9QE394Z3PUpYiIxI1CoZumVBQwqiibR6vr\noi5FRCRuFArdZGZcW1XGW2t3smZ7Y9TliIjEhULhOFxzVhkpBo8uUJfaItI/KRSOw9DcTC4cV8xj\nCzbSrC61RaQfUigcp+uqytnScJCXV/XuL6tFRHqDQuE4XXrqUAqyBvCITjiLSD+kUDhO6WkpfPLM\nUp5dtpVdGsNZRPoZhcIJmDmlnMPNLTxZ074rJxGRvk2hcAJOG57L6aW5PLJAh5BEpH9RKJygmVPK\nWbqpgaWb9kRdiohIj1EonKCrzhhOemqKTjiLSL+iUDhB+VnpfHjCUJ6o2cihpuaoyxER6REKhZMw\nc0oZu/cf4fnlCTW0tIjICVMonIQLxhYzLDeTh6vV7YWI9A8KhZOQmmJcM6WUee/Ws2XPwajLERE5\naQqFkzRzSjktDo+/rRPOItL3KRROUmVRNtMqC3mkuo6+NoqdiEh7CoUeMLOqjDXbG1mwblfUpYiI\nnBSFQg+4YmIJWempOuEsIn2eQqEHZGekceWkEv6weDONh5qiLkdE5IQpFHrIzKpyGg8389Q7m6Mu\nRUTkhCkUekhVRQEji7LVSZ6I9GkKhR5iZlw7pYy31uxk7fbGqMsRETkhCoUedM1ZZaQYPKq9BRHp\noxQKPWhYXiYzxhXz6II6mlv0mwUR6XsUCj1s5pRytjQc5JXa7VGXIiJy3OIaCmZ2mZmtNLNaM7ut\ng/kXmdkeM6sJb9+MZz294UOnDSE/a4B+syAifVJavBZsZqnAT4APA3XAfDOb4+7L2jV92d2vjFcd\nvS0jLZVPnlHKb99cz+79h8nPSo+6JBGRbovnnsI0oNbdV7v7YeBB4Ko4ri9hzKwq43BzC0/WbIq6\nFBGR4xLPUCgFYo+h1IXT2jvXzBab2dNmNqGjBZnZrWZWbWbV9fX18ai1R00YnsdpJbk8skCHkESk\nb4n6RPNCYIS7TwJ+DDzRUSN3v8vdq9y9qri4uFcLPFHXVZWxZGMDyzY1RF2KiEi3xTMUNgLlMY/L\nwmlt3L3B3feF958CBphZURxr6jVXnVFKemqK9hZEpE+JZyjMB8aa2UgzSweuB+bENjCzYWZm4f1p\nYT074lhTrynITufDpw3libc3cripJepyRES6JW6h4O5NwGzgGWA58LC7LzWzWWY2K2x2LbDEzBYB\nPwKu9340Us21VWXs2n+E55dvjboUEZFuidslqdB2SOipdtPujLl/B3BHPGuI0oyxxQzLzeSRBXVc\nPrEk6nJERI4p6hPN/VpqivGps0p5aeU2tjYcjLocEZFjUijE2cyqclocHl+48diNRUQiplCIs5FF\n2UytLOCR6g30o9MlItJPKRR6wcyqclZvb2Th+l1RlyIi0iWFQi/42MQSstJTeXi+xlkQkcSmUOgF\n2RlpXDGxhLmLN7H/cFPU5YiIdEqh0EtumDaCxsPNPPiWfuEsIolLodBLplQUcM6owdz55/c4eKQ5\n6nJERDqkUOhFX710LNv2HtIAPCKSsBQKvejsUYVMqyzkf196j0NN2lsQkcSjUOhFZsZXLx3L5j0H\neXSBrkQSkcSjUOhl540ZzFkj8vnpi++p91QRSTgKhV7WurewcfcBfve29hZEJLEoFCJw4bhiJpfl\ncceLtRxp1t6CiCQOhUIEWvcWNuw8wJM1m6IuR0SkjUIhIpeMH8KE4bn85MVamrS3ICIJoluhYGYz\nuzNNuq91b2HN9kbmLt4cdTkiIkD39xT+TzenyXH48KlDGT9sED9+YRXNLepWW0Si1+VwnGZ2OXAF\nUGpmP4qZlQuoZ7eTlJIS7C18+f6FPPXOZj4+eXjUJYlIkjvWnsImoBo4CCyIuc0BPhrf0pLDZROG\nMXZIDj9+YRUt2lsQkYh1GQruvsjdfwWMcfdfhffnALXurhFjekBKijH7kjG8u3UfzyzdEnU5IpLk\nuntO4VkzyzWzQmAh8HMz++841pVUrpw0nFFF2dz+vPYWRCRa3Q2FPHdvAD4F/NrdpwOXxq+s5JIa\n7i2s2LKX55ZvjbocEUli3Q2FNDMrAa4D5saxnqT1icnDqRicxY9eWIW79hZEJBrdDYV/A54B3nP3\n+WY2ClgVv7KST1pqCn998RiWbGzgxZXboi5HRJJUt0LB3R9x90nu/qXw8Wp3vya+pSWfq88spaxg\nILc/X6u9BRGJRHd/0VxmZr8zs23h7TEzK4t3cclmQLi3sGjDbuat2h51OSKShLp7+OgegktRh4e3\n34fTumRml5nZSjOrNbPbumg31cyazOzabtbTb11zVhnD8zK5/bl3tbcgIr2uu6FQ7O73uHtTeLsX\nKO7qCWaWCvwEuBw4DbjBzE7rpN13gT8dV+X9VHpaCl+6eAwL1+/mtfd2RF2OiCSZ7obCDjO72cxS\nw9vNwLE+saYR/MhttbsfBh4Eruqg3VeAxwCdXQ1dV1XGsNxMbn9e5/JFpHd1NxRuIbgcdQuwGbgW\n+NwxnlMKbIh5XBdOa2NmpcDVwP92tSAzu9XMqs2sur6+vpsl910ZaanMunAUb63ZyRurtbcgIr3n\neC5J/ay7F7v7EIKQ+NceWP//AP/o7l0OKODud7l7lbtXFRd3edSq37h+2giKB2XwI+0tiEgv6m4o\nTIrt68jddwJnHuM5G4HymMdl4bRYVcCDZraWYO/jp2b2yW7W1K9lDkjlr2aM4rX3djB/7c6oyxGR\nJNHdUEgxs4LWB2EfSF12uw3MB8aa2UgzSweuJ7iCqY27j3T3SnevBB4FvuzuT3S7+n7upukVFOWk\na29BRHpNd0PhB8DrZvZtM/s28Brwva6e4O5NwGyCX0IvBx5296VmNsvMZp1M0cliYHoqf3nBKF5e\ntZ2F69UprYjEn3X3WvjwctJLwocvuPuyuFXVhaqqKq+uro5i1ZFoPNTE+d99gTPK87nn89OiLkdE\n+igzW+DuVcdqd6xDQG3CEIgkCJJZdkYaX7xgFN9/ZiWL63YzqSw/6pJEpB/r7uEjidBnzqkgb+AA\nfvR8bdSliEg/p1DoAwZlDuAL54/kueVbNTqbiMSVQqGP+ML5I5lcns/s3y5UMIhI3CgU+ojsjDR+\n84VpTBiex1/fv5A/LlEwiEjPUyj0IbmZA/j1F6YxsSyP2b9dyB+XbI66JBHpZxQKfUxu5gB+fUtr\nMLzN0+8oGESk5ygU+qBBYTBMKstj9gMKBhHpOQqFPmpQ5gB+dcs0zijPZ/YDb/OHxQoGETl5CoU+\nrDUYzizP56sPvs3cxZuiLklE+jiFQh+Xk5HGvbdM46wR+fzNgzX8fpGCQUROnEKhH8jJSOOezwfB\n8LWHFAwicuIUCv1ETkYa935+GlNGFPA3D77NHAWDiJwAhUI/kp2Rxj2fn0pVZSFfe/BtnqxpP6aR\niEjXFAr9THZGGvd+fipTKwv524dqeOJtBYOIdJ9CoR/KSg/2GKaNLOTrD9fwu7froi5JRPoIhUI/\nlZWext2fm8r0kYP5xsOLFAwi0i0KhX6sNRjOHjWYrz+8iMcXKhhEpGsKhX5uYHoqv/zsVM4dPZhv\nPLKIf/v9MhoPNUVdlogkKIVCEhiYnsovPjOVG6eN4O5X1/CR/57H88u3Rl2WiCQghUKSGJieyneu\nnshjXzqH7IxUvvCrar58/wK2NRyMujQRSSAKhSQzpaKQuV+5gL/7yDieW76NS3/wZ+57Yx0tLR51\naSKSABQKSSg9LYXZl4zlma/NYGJZHv/viSXM/NnrvLt1b9SliUjEFApJbGRRNvd/cTo/mDmZ1fX7\n+NiPXua/nlnJwSPNUZcmIhFRKCQ5M+OaKWU8/42L+Pjk4dzxYi2X/c88XqvdHnVpIhIBhYIAUJid\nzg+vO4P7vzgdgBt/8SZff7iGnY2HI65MRHqTQkGOct6YIv74tRn89cWjmVOziUt/8BKPLajDXSei\nRZJBXEPBzC4zs5VmVmtmt3Uw/yozW2xmNWZWbWbnx7Me6Z7MAan8/UfH84evXsDIomy+8cgibv7l\nm6zZ3hh1aSISZxavb4Bmlgq8C3wYqAPmAze4+7KYNjlAo7u7mU0CHnb38V0tt6qqyqurq+NSs3xQ\nS4vz27fW892nV3CouYXPnVvJrAtHU5idHnVpInIczGyBu1cdq1089xSmAbXuvtrdDwMPAlfFNnD3\nff5+KmUDOkaRYFJSjJvPruC5b1zIlZNK+PnLq5nxvRf572ffZe/BI1GXJyI9LJ6hUApsiHlcF047\nipldbWYrgD8At3S0IDO7NTy8VF1fXx+XYqVrQ3Mz+eF1Z/DM12Zw/pgibn9+FTO+9yJ3zXtPl7CK\n9CORn2h299+Fh4w+CXy7kzZ3uXuVu1cVFxf3boFylHFDB3Hnp6cwZ/Z5TCzL5z+eWsGF33+R37yx\njsNNLVGXJyInKZ6hsBEoj3lcFk7rkLvPA0aZWVEca5IeMqksn1/fMo0Hbz2b8oIs/vmJJVz6w5d4\nfGEdzeoyQ6TPimcozAfGmtlIM0sHrgfmxDYwszFmZuH9s4AMYEcca5IedvaowTwy6xzu+dxUBmUM\n4OsPL+Ky/5nHH5ds1mWsIn1QWrwW7O5NZjYbeAZIBe5296VmNiucfydwDfAZMzsCHAD+wvVJ0ueY\nGRePH8KF44p5eskWfvDsSmbdt5BJZXn83UdO4YKxRYTZLyIJLm6XpMaLLklNfE3NLTz+9kZuf24V\nG3cfYPrIQv7+o6dQVVkYdWkiSau7l6QqFCRuDjU188Cb67njxVq27zvMxacU8+WLx1BVUaA9B5Fe\nplCQhLH/cBP3vraWn/15NXsOHGFyWR63nD+SKyaWMCA18gvgRJKCQkESzv7DTTy2oI67X13Lmu2N\nlORl8tlzK7lh6gjysgZEXZ5Iv6ZQkITV0uK8uHIbv3h5Da+v3kFWeiozp5Tx+fNGUlmUHXV5Iv2S\nQkH6hKWb9vDLV9bw+0WbaGpxPnTqUL54/kimjSzUeQeRHqRQkD5lW8NBfv36Ou57cx279x/h9NJc\nvnj+KK6YWEJ6ms47iJwshYL0SQcON/P423Xc/coa3qtvZGhuBp89t5Ibp40gP0s9s4qcKIWC9Gkt\nLc6f363nl6+s4ZXa7QwckMo1U0q5aXoFp5bkRl2eSJ+jUJB+Y/nmBu5+ZQ1P1mzicHMLE0vzuK6q\njE9MLtVVSyLdpFCQfmdn42GerNnIw9V1LN/cQHpaCh+dMIzrqso4b3QRKSk6MS3SGYWC9GtLNu7h\nkeoNPFGziT0HjlCaP5BrppQxc0oZ5YVZUZcnknAUCpIUDh5p5rnlW3m4uo6XV9XjDueMGsx1U8u4\nbEIJA9NToy5RJCEoFCTpbNp9gMcW1PHIgjrW79zPoIw0rpw8nOuqyjijPF+/e5CkplCQpNXS4ry1\ndicPV2/gqXc2c/BIC2OH5DAzPDk9LC8z6hJFep1CQQTYe/AIcxdv5uHqDby9fjcAVRUFXDGxhCsm\nliggJGkoFETaea9+H08t3swf3tnMii17gSAgPjaphMtPV0BI/6ZQEOlCRwExtTLYg1BASH+kUBDp\npvYBYXb0IaahuQoI6fsUCiInoHbbPp56ZzNPtQuIj00s4XIFhPRhCgWRk9RRQEwqy+eSU4Zw6alD\nmDA8V5e5Sp+hUBDpQbXb9vHHJZt5fsU2ajbsxh2GDMrgkvFDuHj8EM4fU0R2RlrUZYp0SqEgEifb\n9x3izyvreWHFNua9W8/eQ02kp6YwfVQhl4wfwiXjh1AxWCPISWJRKIj0giPNLcxfu5MXV2zjhRXb\neK++EYDRxdlhQAylqrKAAakaKEiipVAQicC6HY28EAbEm6t3cri5hUGZacwYW8zF44cwY2wRQ3Sy\nWiKgUBCJ2L5DTbyyanuwF7FyG/V7DwEwdkgO540p4tzRgzl79GByMzUmhMSfQkEkgbS0OMs2N/Bq\n7XZefW8H89fs5MCRZlIMJpblc97owZw3pogpFQVkDlDPrtLzFAoiCexQUzNvr9/Na2FI1GzYTXOL\nk56WwtTKAs4dXcR5Y4qYWJpHqgYPkh6QEKFgZpcBtwOpwC/c/T/bzb8J+EfAgL3Al9x9UVfLVChI\nf7TvUBNvrdnBq7U7eLV2e1vXG4My0zh71OC2PYkxQ3L02wg5Id0NhbhdWG1mqcBPgA8DdcB8M5vj\n7stimq0BLnT3XWZ2OXAXMD1eNYkkqpyMNC4ZP5RLxg8FgsteX3tvR7gnsZ1nl20FYHB2OlWVBUyt\nLKSqspAJw3N1ZZP0qHj+2mYaUOvuqwHM7EHgKqAtFNz9tZj2bwBlcaxHpM8oysngE5OH84nJwwHY\nsHM/r9ZuZ/7aXVSv28kzS4OQGDgglTNH5FNVWcjUygLOGlGgH9HJSYnnu6cU2BDzuI6u9wK+ADzd\n0QwzuxW4FWDEiBE9VZ9In1FemMX100Zw/bTg/b+14SDVa3cxf+1Oqtft5I4XVtHikJpinFaSG7M3\nUcCQQboEVrovIb5SmNnFBKFwfkfz3f0ugkNLVFVV9a0z4yJxMDQ3k49NKuFjk0qAYDCht9fvpnrt\nTuav3cUDb63nnlfXAlA5OIuqykKmVRZy5oh8RhfnkKKT19KJeIbCRqA85nFZOO0oZjYJ+AVwubvv\niGM9Iv3WoMwBzBhXzIxxxUDwS+slG/e07U28sGIbjy6oA4LzFxNL8zhjRD6Ty/I5c0S+en+VNnG7\n+sjM0oB3gUsJwmA+cKO7L41pMwJ4AfhMu/MLndLVRyLHz91Zvb2RmvW7qdmwm0V1u1m+uYEjzcH/\n/2G5mUwuz+OM8gIml+cxqSyfHJ2b6Fciv/rI3ZvMbDbwDMElqXe7+1IzmxXOvxP4JjAY+Gl4mV1T\nd4oWkeNjZowuzmF0cQ7XTAmu5zh4pJllmxtYtCEMig27205gmwW/vJ5cls/k8nzOKM/nlGGDdKVT\nEtCP10Skza7Gwyyqez8kajbsZtf+IwBkpKVwakkuE4bncnppHhOG5zJu6CD9AruPSIgfr8WDQkGk\n97g7G3YeoKYuCIklG/ewbFMDew81AZCWYowZktMWEqeX5nFqSa4OPSUghYKIxEVLi7Nh136Wbmpg\nycY9LN3UwNJNe9i+7zAQHHqqHJzNhOG5TBiex+mlwd/C7PSIK09ukZ9TEJH+KSXFqBicTcXgbK6Y\nGFwS6+5s23uIpZv2sHRjA0s27aFmw27mLt7c9rySvExOLcnllGGDGD9sEKcMG8SoohzS03SeIpEo\nFETkpJkZQ3MzGZqb2dZVB8Du/YdZtqmhbW9ixZa9vLyqvu2qp7SU4AT4KWFItIZFaf5A9fEUEYWC\niMRNflZrXPCNAAAMFUlEQVQ6544p4twxRW3TDje1sGZ7Iyu2NLByy15WbtnLgnW7mLNoU1ubQRlp\njIsNiqGDGD8sl7wsjT0RbwoFEelV6WkpbXsGsRoOHuHdLXtZEQbFyi17mbtoE799s6mtzZBBGYwZ\nksPYITmMGZLD6PBvcU6G9ix6iEJBRBJCbuYAqsLeX1u5O1saDrYFxaqt+6it38djCzey79D7YZE3\ncABjhuQwpjgIiTFDg/ul+QPVpcdxUiiISMIyM0ryBlKSN5CLTxnSNr01LGq37Wu7rdq2j+eWb+Wh\n6vf74Rw4IJXRQ7LbwmJ0cQ4ji7OpHJyt31d0QqEgIn1ObFhcMLb4qHm7Gg9TW78v2KvYFuxZzF+7\niydqNh3VrjR/ICOLst+/FWczcnA2ZQUDSUviX24rFESkXynITmdqdiFTYw5DATQeamLtjkbWbG9k\nTX3wd/X2Rp6s2UjDwfcPRQ1INcoLsxjVFhg5jCzKZlRxNkMG9f9zFwoFEUkK2RlpTBiex4TheUdN\nd3d27T/Cmu37WB2GRevt5VXbOdTU0tZ24IBURhRmMWJwFhWFWVQMzmLE4GwqCrMoLRjYL/qGUiiI\nSFIzMwqz0ynMLmRKxdF7Fy0tzuaGg6ypb2T19n2s27E/vDXy8qp6Dh55PzBSU4zh+ZlUFGYfHRqF\n2VQMzuozI+L1jSpFRCKQkmKU5g+kNH8g548tOmpe66+4W0Ni/c4wMHbu5+l3Nrd1JNiqKCed8sIs\nygqyKC8YGPwtDP4Oz88kIy0xTnwrFERETkDsr7injSz8wPyGg0dY37pnsbOR9Tv2s2HXfhbX7ebp\ndzbT1OIxy4KhgzIpKxgYBsfA4H5BECIl+Zm9dmhKoSAiEge5mQM4vTSP00vzPjCvucXZ2nCQDTv3\nU7frABt2BX/rdu3nrTU7ebLmADGZQYpBSd5APnduJX85Y1Rc61YoiIj0suD8w0CG5w9kegfzjzS3\nsGXPwSAsdgZhsWHXAYbkZsS9NoWCiEiCGZCaQnlhFuWFWTC6d9fd96+fEhGRHqNQEBGRNgoFERFp\no1AQEZE2CgUREWmjUBARkTYKBRERaaNQEBGRNubux26VQMysHlh3gk8vArb3YDk9LdHrg8SvUfWd\nHNV3chK5vgp3Lz5Woz4XCifDzKrdvSrqOjqT6PVB4teo+k6O6js5iV5fd+jwkYiItFEoiIhIm2QL\nhbuiLuAYEr0+SPwaVd/JUX0nJ9HrO6akOqcgIiJdS7Y9BRER6YJCQURE2vTLUDCzy8xspZnVmtlt\nHcw3M/tROH+xmZ3Vi7WVm9mLZrbMzJaa2d900OYiM9tjZjXh7Zu9VV+4/rVm9k647uoO5ke5/U6J\n2S41ZtZgZl9r16bXt5+Z3W1m28xsScy0QjN71sxWhX8LOnlul+/XONb3fTNbEf4b/s7M8jt5bpfv\nhzjW9y0z2xjz73hFJ8+Navs9FFPbWjOr6eS5cd9+Pcrd+9UNSAXeA0YB6cAi4LR2ba4AngYMOBt4\nsxfrKwHOCu8PAt7toL6LgLkRbsO1QFEX8yPbfh38W28h+FFOpNsPmAGcBSyJmfY94Lbw/m3Adzt5\nDV2+X+NY30eAtPD+dzuqrzvvhzjW9y3g77rxHohk+7Wb/wPgm1Ftv5689cc9hWlArbuvdvfDwIPA\nVe3aXAX82gNvAPlmVtIbxbn7ZndfGN7fCywHSntj3T0osu3XzqXAe+5+or9w7zHuPg/Y2W7yVcCv\nwvu/Aj7ZwVO7836NS33u/id3bwofvgGU9fR6u6uT7dcdkW2/VmZmwHXAAz293ij0x1AoBTbEPK7j\ngx+63WkTd2ZWCZwJvNnB7HPD3fqnzWxCrxYGDjxnZgvM7NYO5ifE9gOup/P/iFFuv1ZD3X1zeH8L\nMLSDNomyLW8h2PvryLHeD/H0lfDf8e5ODr8lwva7ANjq7qs6mR/l9jtu/TEU+gQzywEeA77m7g3t\nZi8ERrj7JODHwBO9XN757n4GcDnw12Y2o5fXf0xmlg58Anikg9lRb78P8OA4QkJe/21m/wQ0Afd3\n0iSq98P/EhwWOgPYTHCIJhHdQNd7CQn//ylWfwyFjUB5zOOycNrxtokbMxtAEAj3u/vj7ee7e4O7\n7wvvPwUMMLOi3qrP3TeGf7cBvyPYRY8V6fYLXQ4sdPet7WdEvf1ibG09rBb+3dZBm6jfi58DrgRu\nCoPrA7rxfogLd9/q7s3u3gL8vJP1Rr390oBPAQ911iaq7Xei+mMozAfGmtnI8Nvk9cCcdm3mAJ8J\nr6I5G9gTs5sfV+Hxx18Cy939h520GRa2w8ymEfw77eil+rLNbFDrfYKTkUvaNYts+8Xo9NtZlNuv\nnTnAZ8P7nwWe7KBNd96vcWFmlwH/AHzC3fd30qY774d41Rd7nurqTtYb2fYLfQhY4e51Hc2Mcvud\nsKjPdMfjRnB1zLsEVyX8UzhtFjArvG/AT8L57wBVvVjb+QSHERYDNeHtinb1zQaWElxJ8QZwbi/W\nNypc76KwhoTafuH6swk+5PNipkW6/QgCajNwhOC49heAwcDzwCrgOaAwbDsceKqr92sv1VdLcDy+\n9X14Z/v6Ons/9FJ9vwnfX4sJPuhLEmn7hdPvbX3fxbTt9e3Xkzd1cyEiIm364+EjERE5QQoFERFp\no1AQEZE2CgUREWmjUBARkTYKBYkLM3st/FtpZjf28LL/b0frihcz+2S8elo1s31xWu5FZjb3JJdx\nr5ld28X82WZ2y8msQxKPQkHiwt3PDe9WAscVCuGvRLtyVCjErCte/gH46ckupBuvK+56uIa7ga/0\n4PIkASgUJC5ivgH/J3BB2Jf835pZatiP//ywo7O/CttfZGYvm9kcYFk47YmwE7GlrR2Jmdl/AgPD\n5d0fu67wF9bfN7MlYf/1fxGz7JfM7FELxg+4P+YXz/9pwdgWi83svzp4HeOAQ+6+PXx8r5ndaWbV\nZvaumV0ZTu/26+pgHd8xs0Vm9oaZDY1Zz7UxbfbFLK+z13JZOG0hQdcLrc/9lpn9xsxeBX7TRa1m\nZndYMDbBc8CQmGV8YDt58CvoteGvxqWfiPybi/R7txH0id/64XkrQbcYU80sA3jVzP4Utj0LON3d\n14SPb3H3nWY2EJhvZo+5+21mNtuDDsba+xRB52mTgaLwOfPCeWcCE4BNwKvAeWa2nKD7hPHu7tbx\nIDPnEXSwF6uSoP+a0cCLZjYG+MxxvK5Y2cAb7v5PZvY94C+Bf++gXayOXks1Qf9AlxD8Url9Xzyn\nEXTMdqCLf4MzgVPCtkMJQuxuMxvcxXaqJugl9K1j1Cx9hPYUpLd9hKDfpBqCLsMHA2PDeW+1++D8\nqpm1dlVRHtOuM+cDD3jQidpW4M/A1Jhl13nQuVoNwQf7HuAg8Esz+xTQUf8/JUB9u2kPu3uLB10l\nrwbGH+frinUYaD32vyCs61g6ei3jgTXuvsqDbgrua/ecOe5+ILzfWa0zeH/7bQJeCNt3tZ22EXTr\nIP2E9hSktxnwFXd/5qiJZhcBje0efwg4x933m9lLQOZJrPdQzP1mghHHmsJDH5cC1xL0mXRJu+cd\nAPLaTWvfN4zTzdfVgSP+fl8zzbz/f7KJ8EubmaUQjCrW6WvpYvmtYmvorNYOh7s8xnbKJNhG0k9o\nT0HibS/BsKOtngG+ZEH34ZjZOAt6j2wvD9gVBsJ4gmE/Wx1pfX47LwN/ER4zLyb45tvpYQ0LxrTI\n86B77b8lOOzU3nJgTLtpM80sxcxGE3R4tvI4Xld3rQWmhPc/AXT0emOtACrDmiDoRbYzndU6j/e3\nXwlwcTi/q+00jkTv9VOOi/YUJN4WA83hYaB7gdsJDncsDE+Q1tPxMJV/BGaFx/1XEhxCanUXsNjM\nFrr7TTHTfwecQ9AjpQP/4O5bwlDpyCDgSTPLJPj2/PUO2swDfmBmFvONfj1B2OQS9JB50Mx+0c3X\n1V0/D2tbRLAtutrbIKzhVuAPZrafICAHddK8s1p/R7AHsCx8ja+H7bvaTucRjKUs/YR6SRU5BjO7\nHfi9uz9nZvcCc9390YjLipyZnQl83d0/HXUt0nN0+Ejk2P4DyIq6iARUBPxz1EVIz9KegoiItNGe\ngoiItFEoiIhIG4WCiIi0USiIiEgbhYKIiLT5/6YW+tpCkr4WAAAAAElFTkSuQmCC\n",
      "text/plain": [
       "<matplotlib.figure.Figure at 0x7f30bf161898>"
      ]
     },
     "metadata": {},
     "output_type": "display_data"
    }
   ],
=======
   "execution_count": null,
   "metadata": {
    "collapsed": true
   },
   "outputs": [],
>>>>>>> b400ae376139c8f5c06abe0142e41795c8eccc72
   "source": [
    "# Plot learning curve (with costs)\n",
    "costs = np.squeeze(d['costs'])\n",
    "plt.plot(costs)\n",
    "plt.ylabel('cost')\n",
    "plt.xlabel('iterations (per hundreds)')\n",
    "plt.title(\"Learning rate =\" + str(d[\"learning_rate\"]))\n",
    "plt.show()"
   ]
  },
  {
   "cell_type": "markdown",
   "metadata": {},
   "source": [
    "**Interpretation**:\n",
    "You can see the cost decreasing. It shows that the parameters are being learned. However, you see that you could train the model even more on the training set. Try to increase the number of iterations in the cell above and rerun the cells. You might see that the training set accuracy goes up, but the test set accuracy goes down. This is called overfitting. "
   ]
  },
  {
   "cell_type": "markdown",
   "metadata": {},
   "source": [
    "## 6 - Further analysis (optional/ungraded exercise) ##\n",
    "\n",
    "Congratulations on building your first image classification model. Let's analyze it further, and examine possible choices for the learning rate $\\alpha$. "
   ]
  },
  {
   "cell_type": "markdown",
   "metadata": {},
   "source": [
    "#### Choice of learning rate ####\n",
    "\n",
    "**Reminder**:\n",
    "In order for Gradient Descent to work you must choose the learning rate wisely. The learning rate $\\alpha$  determines how rapidly we update the parameters. If the learning rate is too large we may \"overshoot\" the optimal value. Similarly, if it is too small we will need too many iterations to converge to the best values. That's why it is crucial to use a well-tuned learning rate.\n",
    "\n",
    "Let's compare the learning curve of our model with several choices of learning rates. Run the cell below. This should take about 1 minute. Feel free also to try different values than the three we have initialized the `learning_rates` variable to contain, and see what happens. "
   ]
  },
  {
   "cell_type": "code",
<<<<<<< HEAD
   "execution_count": 71,
   "metadata": {},
   "outputs": [
    {
     "name": "stdout",
     "output_type": "stream",
     "text": [
      "learning rate is: 0.01\n",
      "[[ 0.97125943  0.9155338   0.92079132  0.96358044  0.78924234  0.60411297\n",
      "   0.01179527  0.89814048  0.91522859  0.70264065  0.19380387  0.49537355\n",
      "   0.7927164   0.85423431  0.00298587  0.96199699  0.01234735  0.9107653\n",
      "   0.13661137  0.01424336  0.96894735  0.1033746   0.00579297  0.86081326\n",
      "   0.53811196  0.64950178  0.83272843  0.00426307  0.0131452   0.99947804\n",
      "   0.11468372  0.82182442  0.69611733  0.4991522   0.67231401  0.01728165\n",
      "   0.04136099  0.80069693  0.26832359  0.03958566  0.74731239  0.32116434\n",
      "   0.71871197  0.01205725  0.96879962  0.62310364  0.17737126  0.98960523\n",
      "   0.74697265  0.07284605]]\n",
      "[[  1.47839654e-01   5.78008187e-02   9.42385025e-01   4.14849240e-05\n",
      "    2.27209941e-02   7.29254668e-02   2.23704495e-02   9.49717864e-01\n",
      "    5.41724296e-02   2.92729895e-02   6.82412299e-02   8.33370210e-01\n",
      "    1.71420615e-01   9.66879883e-01   8.11537151e-01   2.44343484e-02\n",
      "    7.87634098e-03   2.64027272e-02   5.60720049e-02   9.53130353e-01\n",
      "    5.30865324e-03   3.11020746e-02   1.43606493e-01   1.92650473e-02\n",
      "    9.30132798e-01   8.95291211e-01   2.72790550e-02   9.01480142e-01\n",
      "    2.73987903e-02   8.09041583e-01   6.64266069e-02   5.00479730e-02\n",
      "    1.29245158e-01   1.40274640e-01   6.48179131e-02   1.35261337e-02\n",
      "    4.77693621e-03   2.65922709e-02   8.89771230e-01   2.64826222e-01\n",
      "    1.22921586e-02   6.03229153e-01   8.81822076e-01   1.35079742e-02\n",
      "    2.49595285e-02   6.88961127e-02   5.86046930e-02   8.68932415e-01\n",
      "    5.14520331e-03   1.21099845e-02   8.23403970e-01   1.70985647e-01\n",
      "    9.49977566e-02   3.04227660e-01   9.48091298e-01   8.09204731e-04\n",
      "    9.66640038e-01   8.78319466e-01   3.17284880e-02   9.76165700e-01\n",
      "    8.81584697e-01   8.48145722e-01   2.70795160e-02   2.28390396e-02\n",
      "    1.05295676e-01   4.45165292e-02   1.22858876e-02   1.35813814e-01\n",
      "    8.25867437e-01   9.21552653e-03   2.49353830e-02   9.88067070e-01\n",
      "    5.78381495e-02   8.57292849e-02   4.10128551e-02   5.70507956e-01\n",
      "    2.11603230e-04   1.52264723e-02   6.18390722e-02   1.39187810e-01\n",
      "    6.68993749e-02   4.14281785e-04   1.23347660e-02   9.24789062e-01\n",
      "    8.16880995e-01   9.29503654e-03   8.23770893e-02   2.75905821e-02\n",
      "    8.52215781e-01   2.36580782e-02   1.75344552e-01   6.15499363e-02\n",
      "    6.58017000e-01   9.54697511e-01   9.62775471e-01   1.05372217e-01\n",
      "    9.37239413e-02   9.29062265e-01   2.68654456e-02   1.44668290e-01\n",
      "    9.15662947e-02   2.89260930e-02   8.02603133e-01   6.11847789e-02\n",
      "    9.87937140e-01   5.84677169e-02   9.87171184e-01   8.37167548e-01\n",
      "    8.94717386e-01   8.58260204e-01   9.36232298e-01   9.33067878e-01\n",
      "    8.77279900e-03   5.88387682e-02   5.09517612e-02   2.40626781e-02\n",
      "    3.87480256e-02   9.35343373e-01   2.35202639e-03   8.83972091e-02\n",
      "    4.49639004e-03   6.64404296e-01   1.76677024e-02   2.75426441e-05\n",
      "    8.71728805e-01   2.43292079e-03   8.92351131e-01   9.50411299e-02\n",
      "    9.66495010e-01   9.27285472e-01   2.66413779e-01   8.70883114e-02\n",
      "    5.40743542e-02   9.75155426e-01   8.02323751e-01   6.92965781e-01\n",
      "    9.06287458e-01   9.39900204e-01   1.64790714e-03   1.91364330e-02\n",
      "    1.66925680e-02   1.46846281e-02   9.39237709e-01   2.57925925e-03\n",
      "    8.19134439e-01   8.54311895e-01   9.10765301e-01   1.20452016e-01\n",
      "    9.10603560e-01   9.11977137e-01   3.72174950e-01   6.13527932e-02\n",
      "    1.30882744e-02   9.55225821e-01   4.30680816e-02   1.37970158e-01\n",
      "    9.60868956e-01   8.67705030e-03   5.95741909e-03   2.19466774e-02\n",
      "    1.78308409e-03   2.57658927e-02   8.63787547e-01   3.44218954e-02\n",
      "    9.34152347e-01   9.35483274e-03   9.90908018e-01   1.17832721e-02\n",
      "    2.67756870e-02   7.74546159e-01   8.43831858e-01   9.38847463e-01\n",
      "    1.48599256e-01   4.17198956e-03   9.81043189e-01   8.22764984e-01\n",
      "    1.92120394e-02   8.58870443e-01   5.37478573e-02   7.84878423e-01\n",
      "    3.56080493e-02   2.80545014e-02   1.09777936e-02   1.30396160e-02\n",
      "    3.81067987e-04   8.51025984e-01   2.44476492e-02   4.57657708e-02\n",
      "    8.81871553e-01   1.06481928e-02   2.84032918e-02   1.96773463e-02\n",
      "    8.54577180e-01   3.01055581e-02   1.33843958e-03   7.04152762e-02\n",
      "    3.08344786e-01   9.25167630e-01   4.53183035e-02   9.31980523e-03\n",
      "    8.69872444e-01   4.61339719e-03   4.86286962e-03   7.32772399e-03\n",
      "    1.26009270e-01   1.46124056e-01   4.51019669e-02   1.45139959e-01\n",
      "    1.45971589e-01]]\n",
      "train accuracy: 99.52153110047847 %\n",
      "test accuracy: 68.0 %\n",
      "\n",
      "-------------------------------------------------------\n",
      "\n",
      "learning rate is: 0.001\n",
      "[[ 0.74458179  0.63302701  0.70621076  0.7037801   0.5322598   0.43784581\n",
      "   0.1843739   0.71778574  0.73717649  0.59122536  0.39837511  0.44491784\n",
      "   0.63244572  0.53976962  0.09938522  0.7227688   0.12316033  0.58301417\n",
      "   0.28145733  0.16609522  0.61461919  0.14166416  0.0865388   0.4251847\n",
      "   0.67719513  0.61251308  0.46730808  0.11854922  0.21041046  0.8906756\n",
      "   0.42313203  0.56013238  0.60322016  0.37148913  0.57460259  0.11968291\n",
      "   0.24088599  0.65905854  0.4782032   0.14862075  0.4992436   0.61682528\n",
      "   0.4795275   0.16260336  0.70722369  0.23929218  0.36719514  0.87223907\n",
      "   0.45484261  0.19029187]]\n",
      "[[ 0.34403391  0.18575705  0.63392388  0.00949352  0.185803    0.30979007\n",
      "   0.13544854  0.75931407  0.18856286  0.16653711  0.47903517  0.55094252\n",
      "   0.39894694  0.67613631  0.32941411  0.15120523  0.1515817   0.10868391\n",
      "   0.21533234  0.78261458  0.09236643  0.13102179  0.30209379  0.22018859\n",
      "   0.60467471  0.63089631  0.13786841  0.52162666  0.2229145   0.41807311\n",
      "   0.20928386  0.22354737  0.51863273  0.37446655  0.12619979  0.24763606\n",
      "   0.08217106  0.20570627  0.61668309  0.47341694  0.07578526  0.20272218\n",
      "   0.63694514  0.17332725  0.12774778  0.38987251  0.25716102  0.57589232\n",
      "   0.03660729  0.23627192  0.5058546   0.44851881  0.26882028  0.54506441\n",
      "   0.63427748  0.07593065  0.79389128  0.55848777  0.20399827  0.82950311\n",
      "   0.67551516  0.49340246  0.12825017  0.19483707  0.30405843  0.25239064\n",
      "   0.23849329  0.28306742  0.39562206  0.1338017   0.20953382  0.84559705\n",
      "   0.25983452  0.43347997  0.25869745  0.5275365   0.01851016  0.18226072\n",
      "   0.11686925  0.24360522  0.11457144  0.09711829  0.11403479  0.64158072\n",
      "   0.56492264  0.14249209  0.26621215  0.23562087  0.63347539  0.19718838\n",
      "   0.41665293  0.2560914   0.20511226  0.75854285  0.62700096  0.22437352\n",
      "   0.24158168  0.58986637  0.18250551  0.31168748  0.40230892  0.18766222\n",
      "   0.37363736  0.24954905  0.81540625  0.33905562  0.85287524  0.46460165\n",
      "   0.64873862  0.49476607  0.58689285  0.73160658  0.15974705  0.28192355\n",
      "   0.21969254  0.17213348  0.24140747  0.59506433  0.09843999  0.4664941\n",
      "   0.11789794  0.41615495  0.28828188  0.01549565  0.57657208  0.03491378\n",
      "   0.56433333  0.52342054  0.58263447  0.828261    0.33112864  0.30054751\n",
      "   0.13866344  0.7796039   0.49905825  0.23849455  0.65130553  0.54865883\n",
      "   0.07475945  0.15289783  0.17277205  0.21093974  0.77996081  0.05731401\n",
      "   0.43542011  0.62528802  0.58301417  0.39592429  0.62711359  0.62164606\n",
      "   0.52142034  0.2237536   0.11263677  0.69875451  0.13460421  0.59843604\n",
      "   0.62542932  0.06223702  0.08147044  0.16677973  0.0471795   0.29026597\n",
      "   0.53465382  0.37298272  0.67567251  0.08157721  0.80300364  0.36035876\n",
      "   0.12411481  0.3216639   0.50044148  0.71061923  0.38536321  0.15865892\n",
      "   0.73153708  0.60089581  0.19123039  0.60169201  0.21145324  0.35174627\n",
      "   0.1036799   0.15432715  0.08266478  0.1765554   0.0315303   0.4005418\n",
      "   0.12684962  0.13818573  0.69657105  0.10353719  0.15229696  0.170385\n",
      "   0.39005657  0.21251557  0.03788715  0.32853945  0.47339083  0.62631301\n",
      "   0.22739755  0.0902158   0.56782331  0.17507791  0.20252309  0.09500011\n",
      "   0.34504767  0.39618939  0.25822558  0.24550552  0.30677401]]\n",
      "train accuracy: 88.99521531100478 %\n",
      "test accuracy: 64.0 %\n",
      "\n",
      "-------------------------------------------------------\n",
      "\n",
      "learning rate is: 0.0001\n",
      "[[ 0.45098635  0.48539489  0.40959087  0.44864257  0.32818894  0.43729766\n",
      "   0.28884626  0.46438078  0.45494399  0.45491705  0.36938309  0.41863679\n",
      "   0.45816519  0.5031755   0.2842568   0.45155065  0.30672371  0.37824086\n",
      "   0.26505548  0.27737934  0.40677576  0.28781555  0.24304775  0.38397796\n",
      "   0.50642581  0.47047843  0.35358916  0.31561491  0.39430714  0.4603235\n",
      "   0.37998879  0.3764821   0.32056264  0.38693085  0.40764828  0.23150119\n",
      "   0.311659    0.44981144  0.43152263  0.26276732  0.37785575  0.48883282\n",
      "   0.37790798  0.30969512  0.47842906  0.32857529  0.34457076  0.60547775\n",
      "   0.40733226  0.28828383]]\n",
      "[[ 0.4225819   0.31692389  0.42964509  0.14896683  0.28783033  0.38652698\n",
      "   0.29492571  0.44991522  0.31988018  0.32391139  0.39318147  0.34804173\n",
      "   0.40099138  0.31694856  0.28102266  0.3231201   0.25486297  0.18485428\n",
      "   0.31900054  0.52941528  0.25568417  0.27297382  0.29762542  0.35834172\n",
      "   0.38912252  0.4552143   0.2555983   0.34830216  0.29078565  0.27432926\n",
      "   0.31094887  0.44330557  0.47172673  0.39765449  0.22386371  0.46108148\n",
      "   0.27055987  0.31333951  0.49901097  0.439851    0.23953174  0.29809115\n",
      "   0.42197081  0.28385499  0.2465556   0.40478121  0.35487343  0.45521241\n",
      "   0.1451398   0.37485678  0.36671611  0.37909623  0.30298036  0.40151709\n",
      "   0.40460677  0.24757226  0.50122617  0.38917296  0.3687779   0.50666786\n",
      "   0.52492017  0.37864634  0.24031899  0.30627306  0.35114005  0.37398054\n",
      "   0.43104844  0.31851314  0.37029232  0.29232461  0.37616632  0.52373453\n",
      "   0.32507684  0.48381803  0.39170698  0.38646363  0.17397111  0.31623794\n",
      "   0.24714356  0.35235176  0.17699762  0.33409149  0.3249697   0.49338319\n",
      "   0.413497    0.25575577  0.31724095  0.36456893  0.45018347  0.34698807\n",
      "   0.38500817  0.46053573  0.23091555  0.47268593  0.43291929  0.26828088\n",
      "   0.30258929  0.4164904   0.24453098  0.27111067  0.39272427  0.3043153\n",
      "   0.27984468  0.39085873  0.52409691  0.34966557  0.55950717  0.37739831\n",
      "   0.43697184  0.33557455  0.38439647  0.48607992  0.30731772  0.31028645\n",
      "   0.30037443  0.29400226  0.42714997  0.42909528  0.30432821  0.5227302\n",
      "   0.32144602  0.4066469   0.43683178  0.17768611  0.4354696   0.18662466\n",
      "   0.39558874  0.48819809  0.35425959  0.57279833  0.35098941  0.33429763\n",
      "   0.31014998  0.49175402  0.44154511  0.31203466  0.38776576  0.38352489\n",
      "   0.29611222  0.36104647  0.33824864  0.37198268  0.52831432  0.25732676\n",
      "   0.36743298  0.44902822  0.37824086  0.36790056  0.41246464  0.37833397\n",
      "   0.3418507   0.30119593  0.2592477   0.46753926  0.26777792  0.43134603\n",
      "   0.32491304  0.19700069  0.25937972  0.33143626  0.19820128  0.35468513\n",
      "   0.36334932  0.51823778  0.37235121  0.27650473  0.47271147  0.44760504\n",
      "   0.33240186  0.29967323  0.41157608  0.47817969  0.39048545  0.28309008\n",
      "   0.46350184  0.41099669  0.34508275  0.4323286   0.35065016  0.33976266\n",
      "   0.25459527  0.29233107  0.26976618  0.30004182  0.18212017  0.34254174\n",
      "   0.26213135  0.2674514   0.45817075  0.24356149  0.25227369  0.34588203\n",
      "   0.3783451   0.32762257  0.19831251  0.51451759  0.3792938   0.41417054\n",
      "   0.34795587  0.25521854  0.42313521  0.32557428  0.38342989  0.21943589\n",
      "   0.34909483  0.39399177  0.36128874  0.38042346  0.38929593]]\n",
      "train accuracy: 68.42105263157895 %\n",
      "test accuracy: 36.0 %\n",
      "\n",
      "-------------------------------------------------------\n",
      "\n"
     ]
    },
    {
     "data": {
      "image/png": "iVBORw0KGgoAAAANSUhEUgAAAYUAAAEKCAYAAAD9xUlFAAAABHNCSVQICAgIfAhkiAAAAAlwSFlz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\nPhoKSimlfDQUlFJK+WgoKKWU8vn/1bp60qC60qYAAAAASUVORK5CYII=\n",
      "text/plain": [
       "<matplotlib.figure.Figure at 0x7f30bf1f42e8>"
      ]
     },
     "metadata": {},
     "output_type": "display_data"
    }
   ],
=======
   "execution_count": null,
   "metadata": {
    "collapsed": true
   },
   "outputs": [],
>>>>>>> b400ae376139c8f5c06abe0142e41795c8eccc72
   "source": [
    "learning_rates = [0.01, 0.001, 0.0001]\n",
    "models = {}\n",
    "for i in learning_rates:\n",
    "    print (\"learning rate is: \" + str(i))\n",
    "    models[str(i)] = model(train_set_x, train_set_y, test_set_x, test_set_y, num_iterations = 1500, learning_rate = i, print_cost = False)\n",
    "    print ('\\n' + \"-------------------------------------------------------\" + '\\n')\n",
    "\n",
    "for i in learning_rates:\n",
    "    plt.plot(np.squeeze(models[str(i)][\"costs\"]), label= str(models[str(i)][\"learning_rate\"]))\n",
    "\n",
    "plt.ylabel('cost')\n",
    "plt.xlabel('iterations (hundreds)')\n",
    "\n",
    "legend = plt.legend(loc='upper center', shadow=True)\n",
    "frame = legend.get_frame()\n",
    "frame.set_facecolor('0.90')\n",
    "plt.show()"
   ]
  },
  {
   "cell_type": "markdown",
   "metadata": {},
   "source": [
    "**Interpretation**: \n",
    "- Different learning rates give different costs and thus different predictions results.\n",
    "- If the learning rate is too large (0.01), the cost may oscillate up and down. It may even diverge (though in this example, using 0.01 still eventually ends up at a good value for the cost). \n",
    "- A lower cost doesn't mean a better model. You have to check if there is possibly overfitting. It happens when the training accuracy is a lot higher than the test accuracy.\n",
    "- In deep learning, we usually recommend that you: \n",
    "    - Choose the learning rate that better minimizes the cost function.\n",
    "    - If your model overfits, use other techniques to reduce overfitting. (We'll talk about this in later videos.) \n"
   ]
  },
  {
   "cell_type": "markdown",
   "metadata": {},
   "source": [
    "## 7 - Test with your own image (optional/ungraded exercise) ##\n",
    "\n",
    "Congratulations on finishing this assignment. You can use your own image and see the output of your model. To do that:\n",
    "    1. Click on \"File\" in the upper bar of this notebook, then click \"Open\" to go on your Coursera Hub.\n",
    "    2. Add your image to this Jupyter Notebook's directory, in the \"images\" folder\n",
    "    3. Change your image's name in the following code\n",
    "    4. Run the code and check if the algorithm is right (1 = cat, 0 = non-cat)!"
   ]
  },
  {
   "cell_type": "code",
   "execution_count": null,
   "metadata": {
    "collapsed": true,
    "scrolled": false
   },
   "outputs": [],
   "source": [
    "## START CODE HERE ## (PUT YOUR IMAGE NAME) \n",
    "my_image = \"my_image.jpg\"   # change this to the name of your image file \n",
    "## END CODE HERE ##\n",
    "\n",
    "# We preprocess the image to fit your algorithm.\n",
    "fname = \"images/\" + my_image\n",
    "image = np.array(ndimage.imread(fname, flatten=False))\n",
    "image = image/255.\n",
    "my_image = scipy.misc.imresize(image, size=(num_px,num_px)).reshape((1, num_px*num_px*3)).T\n",
    "my_predicted_image = predict(d[\"w\"], d[\"b\"], my_image)\n",
    "\n",
    "plt.imshow(image)\n",
    "print(\"y = \" + str(np.squeeze(my_predicted_image)) + \", your algorithm predicts a \\\"\" + classes[int(np.squeeze(my_predicted_image)),].decode(\"utf-8\") +  \"\\\" picture.\")"
   ]
  },
  {
   "cell_type": "markdown",
   "metadata": {},
   "source": [
    "<font color='blue'>\n",
    "**What to remember from this assignment:**\n",
    "1. Preprocessing the dataset is important.\n",
    "2. You implemented each function separately: initialize(), propagate(), optimize(). Then you built a model().\n",
    "3. Tuning the learning rate (which is an example of a \"hyperparameter\") can make a big difference to the algorithm. You will see more examples of this later in this course!"
   ]
  },
  {
   "cell_type": "markdown",
   "metadata": {},
   "source": [
    "Finally, if you'd like, we invite you to try different things on this Notebook. Make sure you submit before trying anything. Once you submit, things you can play with include:\n",
    "    - Play with the learning rate and the number of iterations\n",
    "    - Try different initialization methods and compare the results\n",
    "    - Test other preprocessings (center the data, or divide each row by its standard deviation)"
   ]
  },
  {
   "cell_type": "markdown",
   "metadata": {},
   "source": [
    "Bibliography:\n",
    "- http://www.wildml.com/2015/09/implementing-a-neural-network-from-scratch/\n",
    "- https://stats.stackexchange.com/questions/211436/why-do-we-normalize-images-by-subtracting-the-datasets-image-mean-and-not-the-c"
   ]
  }
 ],
 "metadata": {
  "coursera": {
   "course_slug": "neural-networks-deep-learning",
   "graded_item_id": "XaIWT",
   "launcher_item_id": "zAgPl"
  },
  "kernelspec": {
   "display_name": "Python 3",
   "language": "python",
   "name": "python3"
  },
  "language_info": {
   "codemirror_mode": {
    "name": "ipython",
    "version": 3
   },
   "file_extension": ".py",
   "mimetype": "text/x-python",
   "name": "python",
   "nbconvert_exporter": "python",
   "pygments_lexer": "ipython3",
   "version": "3.6.0"
  }
 },
 "nbformat": 4,
 "nbformat_minor": 2
}
